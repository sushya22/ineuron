{
 "cells": [
  {
   "cell_type": "markdown",
   "id": "71c5209c",
   "metadata": {},
   "source": [
    "1. What are escape characters, and how do you use them?"
   ]
  },
  {
   "cell_type": "code",
   "execution_count": null,
   "id": "8f9b0d07",
   "metadata": {},
   "outputs": [],
   "source": [
    "escape characters are characters those have special meaning and they do the specific task. we can use these escape characters\n",
    "while printing the text on screen."
   ]
  },
  {
   "cell_type": "markdown",
   "id": "fd68f809",
   "metadata": {},
   "source": [
    "2. What do the escape characters n and t stand for?"
   ]
  },
  {
   "cell_type": "code",
   "execution_count": null,
   "id": "62806d37",
   "metadata": {},
   "outputs": [],
   "source": [
    "n stands for newline character\n",
    "t stands for tab"
   ]
  },
  {
   "cell_type": "code",
   "execution_count": 1,
   "id": "b0248fa7",
   "metadata": {},
   "outputs": [
    {
     "name": "stdout",
     "output_type": "stream",
     "text": [
      "sushant \n",
      "patil\n"
     ]
    }
   ],
   "source": [
    "print(\"sushant \\npatil\")"
   ]
  },
  {
   "cell_type": "code",
   "execution_count": 3,
   "id": "48a9ce3c",
   "metadata": {},
   "outputs": [
    {
     "name": "stdout",
     "output_type": "stream",
     "text": [
      "sushat\tPatil\n"
     ]
    }
   ],
   "source": [
    "print(\"sushat\\tPatil\")"
   ]
  },
  {
   "cell_type": "markdown",
   "id": "b37ad235",
   "metadata": {},
   "source": [
    "3. What is the way to include backslash characters in a string?"
   ]
  },
  {
   "cell_type": "code",
   "execution_count": 4,
   "id": "30835625",
   "metadata": {},
   "outputs": [
    {
     "name": "stdout",
     "output_type": "stream",
     "text": [
      "sushant\\Patil\n"
     ]
    }
   ],
   "source": [
    "#we can include backslash in string by using \"\\\\\"\n",
    "print(\"sushant\\\\Patil\")"
   ]
  },
  {
   "cell_type": "markdown",
   "id": "45b2a718",
   "metadata": {},
   "source": [
    "4. The string \"Howl's Moving Castle\" is a correct value. Why isn't the single quote character in the word Howl's not escaped a problem?"
   ]
  },
  {
   "cell_type": "code",
   "execution_count": null,
   "id": "5a08c07e",
   "metadata": {},
   "outputs": [],
   "source": [
    "since we are double quotes around the whole string so dont need '\\' for printing Howl's"
   ]
  },
  {
   "cell_type": "markdown",
   "id": "900fca15",
   "metadata": {},
   "source": [
    "5. How do you write a string of newlines if you don't want to use the n character?"
   ]
  },
  {
   "cell_type": "code",
   "execution_count": null,
   "id": "639698f1",
   "metadata": {},
   "outputs": [],
   "source": [
    "we can use triple code to write the string..\n"
   ]
  },
  {
   "cell_type": "code",
   "execution_count": 5,
   "id": "16fe363f",
   "metadata": {},
   "outputs": [
    {
     "name": "stdout",
     "output_type": "stream",
     "text": [
      "hell0\n",
      "sushant\n"
     ]
    }
   ],
   "source": [
    "print('''hell0\n",
    "sushant''')"
   ]
  },
  {
   "cell_type": "markdown",
   "id": "a8c2a627",
   "metadata": {},
   "source": [
    "6. What are the values of the given expressions?\n",
    "1. 'Hello, world!'[1]\n",
    "2. 'Hello, world!'[0:5]\n",
    "3. 'Hello, world!'[:5]\n",
    "4. 'Hello, world!'[3:]\n"
   ]
  },
  {
   "cell_type": "code",
   "execution_count": 6,
   "id": "7eeab68b",
   "metadata": {},
   "outputs": [
    {
     "data": {
      "text/plain": [
       "'e'"
      ]
     },
     "execution_count": 6,
     "metadata": {},
     "output_type": "execute_result"
    }
   ],
   "source": [
    "\"Hello, world\"[1] #prints character at index '1'"
   ]
  },
  {
   "cell_type": "code",
   "execution_count": 7,
   "id": "d7fe7ad3",
   "metadata": {},
   "outputs": [
    {
     "data": {
      "text/plain": [
       "'Hello'"
      ]
     },
     "execution_count": 7,
     "metadata": {},
     "output_type": "execute_result"
    }
   ],
   "source": [
    "\"Hello, world\"[0:5] #prints characters from index 0 to index 4"
   ]
  },
  {
   "cell_type": "code",
   "execution_count": 8,
   "id": "0c7d419e",
   "metadata": {},
   "outputs": [
    {
     "data": {
      "text/plain": [
       "'Hello'"
      ]
     },
     "execution_count": 8,
     "metadata": {},
     "output_type": "execute_result"
    }
   ],
   "source": [
    "\"Hello, world\"[:5] #prints characters from index 0 to index 4"
   ]
  },
  {
   "cell_type": "code",
   "execution_count": 9,
   "id": "06451d21",
   "metadata": {},
   "outputs": [
    {
     "data": {
      "text/plain": [
       "'lo, world'"
      ]
     },
     "execution_count": 9,
     "metadata": {},
     "output_type": "execute_result"
    }
   ],
   "source": [
    "\"Hello, world\"[3:] #prints characters from index 3 to last index"
   ]
  },
  {
   "cell_type": "markdown",
   "id": "e655cdb2",
   "metadata": {},
   "source": [
    "7. What are the values of the following expressions?\n",
    "1. 'Hello'.upper()\n",
    "2. 'Hello'.upper().isupper()\n",
    "3. 'Hello'.upper().lower()\n"
   ]
  },
  {
   "cell_type": "code",
   "execution_count": 10,
   "id": "d97cda26",
   "metadata": {},
   "outputs": [
    {
     "data": {
      "text/plain": [
       "'HELLO'"
      ]
     },
     "execution_count": 10,
     "metadata": {},
     "output_type": "execute_result"
    }
   ],
   "source": [
    "\"Hello\".upper() #converts all letters to upper case"
   ]
  },
  {
   "cell_type": "code",
   "execution_count": 11,
   "id": "c82ac584",
   "metadata": {},
   "outputs": [
    {
     "data": {
      "text/plain": [
       "True"
      ]
     },
     "execution_count": 11,
     "metadata": {},
     "output_type": "execute_result"
    }
   ],
   "source": [
    "\"Hello\".upper().isupper() #first convert to upper case then check for uppercase"
   ]
  },
  {
   "cell_type": "code",
   "execution_count": 12,
   "id": "ce001429",
   "metadata": {},
   "outputs": [
    {
     "data": {
      "text/plain": [
       "'hello'"
      ]
     },
     "execution_count": 12,
     "metadata": {},
     "output_type": "execute_result"
    }
   ],
   "source": [
    "\"Hello\".upper().lower() #convert to upper then convert to lower case"
   ]
  },
  {
   "cell_type": "markdown",
   "id": "df6c6b96",
   "metadata": {},
   "source": [
    "8. What are the values of the following expressions?\n",
    "'Remember, remember, the fifth of July.'.split()\n"
   ]
  },
  {
   "cell_type": "code",
   "execution_count": 13,
   "id": "25d047f9",
   "metadata": {},
   "outputs": [
    {
     "data": {
      "text/plain": [
       "['Remember,', 'remember,', 'the', 'fifth', 'of', 'July.']"
      ]
     },
     "execution_count": 13,
     "metadata": {},
     "output_type": "execute_result"
    }
   ],
   "source": [
    "'Remember, remember, the fifth of July.'.split() #by default split the string using space and returns the list"
   ]
  },
  {
   "cell_type": "markdown",
   "id": "e6bc9845",
   "metadata": {},
   "source": [
    "'-'.join('There can only one.'.split())"
   ]
  },
  {
   "cell_type": "code",
   "execution_count": null,
   "id": "9b579371",
   "metadata": {},
   "outputs": [],
   "source": [
    "first split function will generate list then list elements are combined using '-' by join function."
   ]
  },
  {
   "cell_type": "code",
   "execution_count": 14,
   "id": "01c172ae",
   "metadata": {},
   "outputs": [
    {
     "data": {
      "text/plain": [
       "'There-can-only-one.'"
      ]
     },
     "execution_count": 14,
     "metadata": {},
     "output_type": "execute_result"
    }
   ],
   "source": [
    "'-'.join('There can only one.'.split())"
   ]
  },
  {
   "cell_type": "markdown",
   "id": "101016a0",
   "metadata": {},
   "source": [
    "9. What are the methods for right-justifying, left-justifying, and centering a string?"
   ]
  },
  {
   "cell_type": "code",
   "execution_count": null,
   "id": "cd19dc39",
   "metadata": {},
   "outputs": [],
   "source": [
    "ljust()==> left justify\n",
    "rjust()==> right justify\n",
    "center()==> center justify"
   ]
  },
  {
   "cell_type": "markdown",
   "id": "e1ae220a",
   "metadata": {},
   "source": [
    "10. What is the best way to remove whitespace characters from the start or end?"
   ]
  },
  {
   "cell_type": "code",
   "execution_count": null,
   "id": "937d8333",
   "metadata": {},
   "outputs": [],
   "source": [
    "strip() method removes white characters from start and end."
   ]
  },
  {
   "cell_type": "code",
   "execution_count": 15,
   "id": "ea13864d",
   "metadata": {},
   "outputs": [
    {
     "data": {
      "text/plain": [
       "'sushant'"
      ]
     },
     "execution_count": 15,
     "metadata": {},
     "output_type": "execute_result"
    }
   ],
   "source": [
    "s=\"   sushant   \"\n",
    "s.strip()"
   ]
  },
  {
   "cell_type": "code",
   "execution_count": null,
   "id": "a188d3ff",
   "metadata": {},
   "outputs": [],
   "source": []
  }
 ],
 "metadata": {
  "kernelspec": {
   "display_name": "Python 3 (ipykernel)",
   "language": "python",
   "name": "python3"
  },
  "language_info": {
   "codemirror_mode": {
    "name": "ipython",
    "version": 3
   },
   "file_extension": ".py",
   "mimetype": "text/x-python",
   "name": "python",
   "nbconvert_exporter": "python",
   "pygments_lexer": "ipython3",
   "version": "3.9.13"
  }
 },
 "nbformat": 4,
 "nbformat_minor": 5
}
