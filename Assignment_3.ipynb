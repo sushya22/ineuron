{
 "cells": [
  {
   "cell_type": "markdown",
   "id": "02bd0366",
   "metadata": {},
   "source": [
    "1. Why are functions advantageous to have in your programs?"
   ]
  },
  {
   "cell_type": "code",
   "execution_count": null,
   "id": "d92c2f40",
   "metadata": {},
   "outputs": [],
   "source": [
    "functions helps us to achieve the \"do not repeat yourself\" \n",
    "principle. means once we define the function then we can use that \n",
    "function anywhere in the program. functions reduce the size of \n",
    "the programs. even we can pass parameter to the functions.\n",
    "\n"
   ]
  },
  {
   "cell_type": "markdown",
   "id": "66d0486b",
   "metadata": {},
   "source": [
    "2. When does the code in a function run: when it's specified or when it's called?"
   ]
  },
  {
   "cell_type": "code",
   "execution_count": null,
   "id": "ce49820f",
   "metadata": {},
   "outputs": [],
   "source": [
    "code written inside will be executed only when we call the\n",
    "function."
   ]
  },
  {
   "cell_type": "markdown",
   "id": "5d5c06de",
   "metadata": {},
   "source": [
    "3. What statement creates a function?"
   ]
  },
  {
   "cell_type": "code",
   "execution_count": null,
   "id": "7d26af0c",
   "metadata": {},
   "outputs": [],
   "source": [
    "\"def\" statement creates the function."
   ]
  },
  {
   "cell_type": "markdown",
   "id": "ea30c912",
   "metadata": {},
   "source": [
    "4. What is the difference between a function and a function call?"
   ]
  },
  {
   "cell_type": "code",
   "execution_count": null,
   "id": "dfc2ad3c",
   "metadata": {},
   "outputs": [],
   "source": [
    "function means programmers write some logic inside the function\n",
    "even we can pass the parameters to function to make it dynamic.\n",
    "\n",
    "while function call means we will call the function with arguments\n",
    "after call to function the statements inside function body will be\n",
    "executed"
   ]
  },
  {
   "cell_type": "markdown",
   "id": "c3b2ae2a",
   "metadata": {},
   "source": [
    "5. How many global scopes are there in a Python program? How many local scopes?"
   ]
  },
  {
   "cell_type": "code",
   "execution_count": null,
   "id": "f3eafbe8",
   "metadata": {},
   "outputs": [],
   "source": [
    "at the program execution we can have one global scope and one \n",
    "active local scope."
   ]
  },
  {
   "cell_type": "markdown",
   "id": "00fa7fcf",
   "metadata": {},
   "source": [
    "6. What happens to variables in a local scope when the function call returns?"
   ]
  },
  {
   "cell_type": "code",
   "execution_count": null,
   "id": "c9177b21",
   "metadata": {},
   "outputs": [],
   "source": [
    "The variables defined inside the function will be destroyed after\n",
    "the execution of function."
   ]
  },
  {
   "cell_type": "markdown",
   "id": "40ef5670",
   "metadata": {},
   "source": [
    "7. What is the concept of a return value? Is it possible to have a return value in an expression?"
   ]
  },
  {
   "cell_type": "code",
   "execution_count": null,
   "id": "5dfc56e0",
   "metadata": {},
   "outputs": [],
   "source": [
    "return value means that when we call function, as a function \n",
    "execution it will return some value after execution so we can\n",
    "use \"return\" statement to return the value from the function."
   ]
  },
  {
   "cell_type": "markdown",
   "id": "324fb2ee",
   "metadata": {},
   "source": [
    "8. If a function does not have a return statement, what is the return value of a call to that function?"
   ]
  },
  {
   "cell_type": "code",
   "execution_count": null,
   "id": "e121b13e",
   "metadata": {},
   "outputs": [],
   "source": [
    "if function does not contains return value then by default it will\n",
    "return None"
   ]
  },
  {
   "cell_type": "markdown",
   "id": "d33812b0",
   "metadata": {},
   "source": [
    "9. How do you make a function variable refer to the global variable?"
   ]
  },
  {
   "cell_type": "code",
   "execution_count": null,
   "id": "7bcd42c9",
   "metadata": {},
   "outputs": [],
   "source": [
    "by using \"global\" keyword we can make function variable refer to \n",
    "global variable name."
   ]
  },
  {
   "cell_type": "markdown",
   "id": "c226e8ec",
   "metadata": {},
   "source": [
    "10. What is the data type of None?"
   ]
  },
  {
   "cell_type": "code",
   "execution_count": null,
   "id": "508b0941",
   "metadata": {},
   "outputs": [],
   "source": [
    "None means empty object\n"
   ]
  },
  {
   "cell_type": "markdown",
   "id": "29cfa59c",
   "metadata": {},
   "source": [
    "11. What does the sentence import areallyourpetsnamederic do?"
   ]
  },
  {
   "cell_type": "code",
   "execution_count": null,
   "id": "9c8802c9",
   "metadata": {},
   "outputs": [],
   "source": [
    "the statement will import the areallyourpetsnamederic python \n",
    "module, module means python file...."
   ]
  },
  {
   "cell_type": "markdown",
   "id": "a86e8bcd",
   "metadata": {},
   "source": [
    "12. If you had a bacon() feature in a spam module, what would you call it after importing spam?"
   ]
  },
  {
   "cell_type": "code",
   "execution_count": null,
   "id": "dd29ba17",
   "metadata": {},
   "outputs": [],
   "source": [
    "if spam module contains bacon() function then we can use following\n",
    "statement to call it.\n",
    "\n",
    "import spam\n",
    "spam.bacon()\n",
    "\n",
    "or \n",
    "\n",
    "from spam import bacon\n",
    "bacon()"
   ]
  },
  {
   "cell_type": "markdown",
   "id": "cdf53d0c",
   "metadata": {},
   "source": [
    "13. What can you do to save a programme from crashing if it encounters an error?"
   ]
  },
  {
   "cell_type": "code",
   "execution_count": null,
   "id": "3c1d95ef",
   "metadata": {},
   "outputs": [],
   "source": [
    "we can use Exception handling to make program run smoothly\n",
    "we can use try, except and finally statement to handle the\n",
    "exception."
   ]
  },
  {
   "cell_type": "markdown",
   "id": "d8d958e9",
   "metadata": {},
   "source": [
    "14. What is the purpose of the try clause? What is the purpose of the except clause?\n",
    "\n"
   ]
  },
  {
   "cell_type": "code",
   "execution_count": null,
   "id": "04894608",
   "metadata": {},
   "outputs": [],
   "source": [
    "try clause is used to handle the exception.\n",
    "usually the code which might throw the exception will be put\n",
    "inside the try block.\n",
    "\n",
    "except clause is used to handle the exception handling.\n",
    "the statement those need to be executed when some exception occurs\n",
    "will be put inside the except block"
   ]
  }
 ],
 "metadata": {
  "kernelspec": {
   "display_name": "Python 3 (ipykernel)",
   "language": "python",
   "name": "python3"
  },
  "language_info": {
   "codemirror_mode": {
    "name": "ipython",
    "version": 3
   },
   "file_extension": ".py",
   "mimetype": "text/x-python",
   "name": "python",
   "nbconvert_exporter": "python",
   "pygments_lexer": "ipython3",
   "version": "3.9.13"
  }
 },
 "nbformat": 4,
 "nbformat_minor": 5
}
