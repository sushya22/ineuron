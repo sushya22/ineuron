{
 "cells": [
  {
   "cell_type": "markdown",
   "id": "742a163a",
   "metadata": {},
   "source": [
    "1. Write a Python Program to Add Two Matrices?"
   ]
  },
  {
   "cell_type": "code",
   "execution_count": 10,
   "id": "527de48b",
   "metadata": {},
   "outputs": [
    {
     "name": "stdout",
     "output_type": "stream",
     "text": [
      "Enter row numbers: 2\n",
      "Enter column numbers: 2\n",
      "Enter 0 row data: \n",
      "1\n",
      "2\n",
      "Enter 1 row data: \n",
      "1\n",
      "2\n",
      "Enter 0 row data: \n",
      "1\n",
      "2\n",
      "Enter 1 row data: \n",
      "1\n",
      "2\n",
      "[[1, 2], [1, 2]]\n",
      "[[1, 2], [1, 2]]\n",
      "[[2, 4], [2, 4]]\n"
     ]
    }
   ],
   "source": [
    "def takeinput(m,n):\n",
    "    l=[]\n",
    "    \n",
    "    for i in range(m):\n",
    "        r=[]\n",
    "        print(\"Enter\",i,\"row data: \")\n",
    "        for j in range(n):\n",
    "            r.append(int(input()))\n",
    "        l.append(r)\n",
    "    return l\n",
    "\n",
    "def addition(a,b):\n",
    "    c=[]\n",
    "    for i in range(len(a)):\n",
    "        r=[]\n",
    "        for j in range(len(a[i])):\n",
    "            #print(i,j)\n",
    "            #print(a[i][j])\n",
    "            r.insert(j,a[i][j]+b[i][j])\n",
    "            #print(i,j)\n",
    "        c.append(r)\n",
    "    return c\n",
    "\n",
    "m=int(input(\"Enter row numbers: \"))\n",
    "n=int(input(\"Enter column numbers: \"))\n",
    "\n",
    "a=takeinput(m,n)\n",
    "b=takeinput(m,n)\n",
    "print(a)\n",
    "print(b)\n",
    "c=addition(a,b)\n",
    "print(c)\n",
    "        \n",
    "        \n",
    "    "
   ]
  },
  {
   "cell_type": "markdown",
   "id": "1cc14da9",
   "metadata": {},
   "source": [
    "2.\tWrite a Python Program to Multiply Two Matrices?"
   ]
  },
  {
   "cell_type": "code",
   "execution_count": 11,
   "id": "4bf966a0",
   "metadata": {},
   "outputs": [
    {
     "name": "stdout",
     "output_type": "stream",
     "text": [
      "Enter row numbers: 2\n",
      "Enter column numbers: 2\n",
      "Enter 0 row data: \n",
      "1\n",
      "2\n",
      "Enter 1 row data: \n",
      "1\n",
      "2\n",
      "Enter 0 row data: \n",
      "1\n",
      "2\n",
      "Enter 1 row data: \n",
      "1\n",
      "2\n",
      "[[1, 2], [1, 2]]\n",
      "[[1, 2], [1, 2]]\n",
      "[[1, 4], [1, 4]]\n"
     ]
    }
   ],
   "source": [
    "def takeinput(m,n):\n",
    "    l=[]\n",
    "    \n",
    "    for i in range(m):\n",
    "        r=[]\n",
    "        print(\"Enter\",i,\"row data: \")\n",
    "        for j in range(n):\n",
    "            r.append(int(input()))\n",
    "        l.append(r)\n",
    "    return l\n",
    "\n",
    "def addition(a,b):\n",
    "    c=[]\n",
    "    for i in range(len(a)):\n",
    "        r=[]\n",
    "        for j in range(len(a[i])):\n",
    "            #print(i,j)\n",
    "            #print(a[i][j])\n",
    "            r.insert(j,a[i][j]*b[i][j])\n",
    "            #print(i,j)\n",
    "        c.append(r)\n",
    "    return c\n",
    "\n",
    "m=int(input(\"Enter row numbers: \"))\n",
    "n=int(input(\"Enter column numbers: \"))\n",
    "\n",
    "a=takeinput(m,n)\n",
    "b=takeinput(m,n)\n",
    "print(a)\n",
    "print(b)\n",
    "c=addition(a,b)\n",
    "print(c)\n",
    "        \n",
    "        \n",
    "    "
   ]
  },
  {
   "cell_type": "markdown",
   "id": "b1b6b1ad",
   "metadata": {},
   "source": [
    "3. Write a Python Program to Transpose a Matrix"
   ]
  },
  {
   "cell_type": "code",
   "execution_count": 13,
   "id": "bdffad07",
   "metadata": {},
   "outputs": [
    {
     "name": "stdout",
     "output_type": "stream",
     "text": [
      "Enter number of rows: 2\n",
      "Enter number of columns: 3\n",
      "Enter 0 row data: \n",
      "1\n",
      "2\n",
      "3\n",
      "Enter 1 row data: \n",
      "4\n",
      "5\n",
      "6\n",
      "[[1, 4], [2, 5], [3, 6]]\n"
     ]
    }
   ],
   "source": [
    "def takeinput(m,n):\n",
    "    l=[]\n",
    "    \n",
    "    for i in range(m):\n",
    "        r=[]\n",
    "        print(\"Enter\",i,\"row data: \")\n",
    "        for j in range(n):\n",
    "            r.append(int(input()))\n",
    "        l.append(r)\n",
    "    return l\n",
    "\n",
    "def transpose(a):\n",
    "    l=[]\n",
    "    for i in range(len(a[0])):\n",
    "        r=[]\n",
    "        for j in range(len(a)):\n",
    "            r.insert(j,a[j][i])\n",
    "        l.append(r)\n",
    "    return l\n",
    "\n",
    "m=int(input(\"Enter number of rows: \"))\n",
    "n=int(input(\"Enter number of columns: \"))\n",
    "\n",
    "a=takeinput(m,n)\n",
    "\n",
    "print(transpose(a))\n",
    "            "
   ]
  },
  {
   "cell_type": "markdown",
   "id": "4c9dbec4",
   "metadata": {},
   "source": [
    "4.\tWrite a Python Program to Sort Words in Alphabetic Order?"
   ]
  },
  {
   "cell_type": "code",
   "execution_count": 14,
   "id": "5ac22ef0",
   "metadata": {},
   "outputs": [],
   "source": [
    "l=['sushant','virat','rohit']\n",
    "l.sort()"
   ]
  },
  {
   "cell_type": "code",
   "execution_count": 15,
   "id": "7739a2cf",
   "metadata": {},
   "outputs": [
    {
     "data": {
      "text/plain": [
       "['rohit', 'sushant', 'virat']"
      ]
     },
     "execution_count": 15,
     "metadata": {},
     "output_type": "execute_result"
    }
   ],
   "source": [
    "l"
   ]
  },
  {
   "cell_type": "markdown",
   "id": "8bdc1dfc",
   "metadata": {},
   "source": [
    "5.\tWrite a Python Program to Remove Punctuation From a String?"
   ]
  },
  {
   "cell_type": "code",
   "execution_count": 16,
   "id": "a24ea15c",
   "metadata": {},
   "outputs": [
    {
     "data": {
      "text/plain": [
       "'calm down'"
      ]
     },
     "execution_count": 16,
     "metadata": {},
     "output_type": "execute_result"
    }
   ],
   "source": [
    "s=\"calm down!!!\"\n",
    "s.replace('!','')"
   ]
  },
  {
   "cell_type": "code",
   "execution_count": null,
   "id": "aa675ef4",
   "metadata": {},
   "outputs": [],
   "source": []
  }
 ],
 "metadata": {
  "kernelspec": {
   "display_name": "Python 3 (ipykernel)",
   "language": "python",
   "name": "python3"
  },
  "language_info": {
   "codemirror_mode": {
    "name": "ipython",
    "version": 3
   },
   "file_extension": ".py",
   "mimetype": "text/x-python",
   "name": "python",
   "nbconvert_exporter": "python",
   "pygments_lexer": "ipython3",
   "version": "3.9.13"
  }
 },
 "nbformat": 4,
 "nbformat_minor": 5
}
