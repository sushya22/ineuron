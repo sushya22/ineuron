{
 "cells": [
  {
   "cell_type": "markdown",
   "id": "2488fbd5",
   "metadata": {},
   "source": [
    "1. Write a Python program to check if the given number is a Disarium Number?"
   ]
  },
  {
   "cell_type": "code",
   "execution_count": 4,
   "id": "9d4c342f",
   "metadata": {},
   "outputs": [
    {
     "name": "stdout",
     "output_type": "stream",
     "text": [
      "Enter the number: 135\n",
      "Disarium number\n"
     ]
    }
   ],
   "source": [
    "def disarium(n):\n",
    "    s=str(n)\n",
    "    result=0\n",
    "    for i in range(len(s)):\n",
    "        result=result+int(s[i])**(i+1)\n",
    "    if result==n:\n",
    "        print(\"Disarium number\")\n",
    "    else:\n",
    "        print(\"Not Disarium number\")\n",
    "\n",
    "n=int(input(\"Enter the number: \"))\n",
    "\n",
    "disarium(n)"
   ]
  },
  {
   "cell_type": "markdown",
   "id": "adbd8ced",
   "metadata": {},
   "source": [
    "2. Write a Python program to print all disarium numbers between 1 to 100?"
   ]
  },
  {
   "cell_type": "code",
   "execution_count": 6,
   "id": "6f3a13c3",
   "metadata": {},
   "outputs": [
    {
     "name": "stdout",
     "output_type": "stream",
     "text": [
      "1\n",
      "2\n",
      "3\n",
      "4\n",
      "5\n",
      "6\n",
      "7\n",
      "8\n",
      "9\n",
      "89\n"
     ]
    }
   ],
   "source": [
    "def disarium(n):\n",
    "    s=str(n)\n",
    "    result=0\n",
    "    for i in range(len(s)):\n",
    "        result=result+int(s[i])**(i+1)\n",
    "    if result==n:\n",
    "        print(n)\n",
    "        \n",
    "for i in range(1,101):\n",
    "    disarium(i)\n",
    "    "
   ]
  },
  {
   "cell_type": "markdown",
   "id": "8c56e38e",
   "metadata": {},
   "source": [
    "3. Write a Python program to check if the given number is Happy Number"
   ]
  },
  {
   "cell_type": "code",
   "execution_count": 20,
   "id": "44c4d737",
   "metadata": {},
   "outputs": [
    {
     "name": "stdout",
     "output_type": "stream",
     "text": [
      "Enter number: 10\n",
      "Happy number\n"
     ]
    }
   ],
   "source": [
    "def numSquareSum(n):\n",
    "    squareSum = 0;\n",
    "    while(n):\n",
    "        squareSum += (n % 10) * (n % 10);\n",
    "        n = int(n / 10);\n",
    "    return squareSum;\n",
    "\n",
    "def isHappynumber(n):\n",
    " \n",
    "    slow = n;\n",
    "    fast = n;\n",
    "    while(True):\n",
    "         \n",
    "        \n",
    "        slow = numSquareSum(slow);\n",
    " \n",
    "        \n",
    "        fast = numSquareSum(numSquareSum(fast));\n",
    "        if(slow != fast):\n",
    "            continue;\n",
    "        else:\n",
    "            break;\n",
    " \n",
    "   \n",
    "    return (slow == 1);\n",
    "\n",
    "n=int(input(\"Enter number: \"))\n",
    "\n",
    "if isHappynumber(n):\n",
    "    print(\"Happy number\")\n",
    "else:\n",
    "    print(\"Not happy number\")"
   ]
  },
  {
   "cell_type": "markdown",
   "id": "a2e3f308",
   "metadata": {},
   "source": [
    "4. Write a Python program to determine whether the given number is a Harshad Number?"
   ]
  },
  {
   "cell_type": "code",
   "execution_count": 11,
   "id": "96d023b3",
   "metadata": {},
   "outputs": [
    {
     "name": "stdout",
     "output_type": "stream",
     "text": [
      "Enter the number: 18\n",
      "harshad number\n"
     ]
    }
   ],
   "source": [
    "def checkharshad(n):\n",
    "    sum=0\n",
    "    temp=n\n",
    "    while temp>0:\n",
    "        sum=sum+temp%10\n",
    "        temp=temp//10\n",
    "    if n%sum==0:\n",
    "        print(\"harshad number\")\n",
    "    else:\n",
    "        print(\"not harshad number\")\n",
    "        \n",
    "n=int(input(\"Enter the number: \"))\n",
    "\n",
    "checkharshad(n)\n",
    "\n",
    "        "
   ]
  },
  {
   "cell_type": "markdown",
   "id": "7f6fb343",
   "metadata": {},
   "source": [
    "5. Write a Python program to print all pronic numbers between 1 and 100?"
   ]
  },
  {
   "cell_type": "code",
   "execution_count": 19,
   "id": "6e5eccf1",
   "metadata": {},
   "outputs": [
    {
     "name": "stdout",
     "output_type": "stream",
     "text": [
      "2\n",
      "6\n",
      "12\n",
      "20\n",
      "30\n",
      "42\n",
      "56\n",
      "72\n",
      "90\n"
     ]
    }
   ],
   "source": [
    "def checkpronic():\n",
    "    \n",
    "    j=1\n",
    "    while j<=100:\n",
    "        i=1\n",
    "        while True:\n",
    "            r= i * (i+1)\n",
    "            if r==j:\n",
    "                print(j)\n",
    "                break\n",
    "            else:\n",
    "                i+=1\n",
    "            if r>j:\n",
    "                break\n",
    "        j=j+1\n",
    "checkpronic()"
   ]
  },
  {
   "cell_type": "code",
   "execution_count": null,
   "id": "1939e579",
   "metadata": {},
   "outputs": [],
   "source": []
  }
 ],
 "metadata": {
  "kernelspec": {
   "display_name": "Python 3 (ipykernel)",
   "language": "python",
   "name": "python3"
  },
  "language_info": {
   "codemirror_mode": {
    "name": "ipython",
    "version": 3
   },
   "file_extension": ".py",
   "mimetype": "text/x-python",
   "name": "python",
   "nbconvert_exporter": "python",
   "pygments_lexer": "ipython3",
   "version": "3.9.13"
  }
 },
 "nbformat": 4,
 "nbformat_minor": 5
}
