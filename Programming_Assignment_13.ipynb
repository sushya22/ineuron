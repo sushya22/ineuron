{
 "cells": [
  {
   "cell_type": "markdown",
   "id": "a041c7fa",
   "metadata": {},
   "source": [
    "Question 1:\n",
    "    \n",
    "Write a program that calculates and prints the value according to the given formula:\n",
    "\n",
    "Q = Square root of [(2 * C * D)/H]\n",
    "\n",
    "Following are the fixed values of C and H:\n",
    "\n",
    "C is 50. H is 30.\n",
    "\n",
    "D is the variable whose values should be input to your program in a comma-separated\n",
    "\n",
    "sequence.\n",
    "\n",
    "Example\n",
    "\n",
    "Let us assume the following comma separated input sequence is given to the program:\n",
    "\n",
    "100,150,180\n",
    "\n",
    "The output of the program should be:\n",
    "\n",
    "18,22,24"
   ]
  },
  {
   "cell_type": "code",
   "execution_count": 26,
   "id": "9ece5a39",
   "metadata": {},
   "outputs": [
    {
     "name": "stdout",
     "output_type": "stream",
     "text": [
      "Enter comma seperated values: 100,150,180\n",
      "18\n",
      "22\n",
      "24\n"
     ]
    }
   ],
   "source": [
    "import cmath\n",
    "import math\n",
    "c=50\n",
    "h=30\n",
    "\n",
    "def func1(n):\n",
    "    print(math.floor((cmath.sqrt((2*globals()['c']*n)/globals()['h'])).real))\n",
    "l = map(int,input(\"Enter comma seperated values: \").split(','))\n",
    "\n",
    "for i in l:\n",
    "    func1(i)"
   ]
  },
  {
   "cell_type": "markdown",
   "id": "658580e0",
   "metadata": {},
   "source": [
    "Question 2:\n",
    "\n",
    "Write a program which takes 2 digits, X,Y as input and generates a 2-dimensional array. The\n",
    "\n",
    "element value in the i-th row and j-th column of the array should be i*j.\n",
    "\n",
    "Note: i=0,1.., X-1; j=0,1,¡Y-1.\n",
    "\n",
    "Example\n",
    "\n",
    "Suppose the following inputs are given to the program:\n",
    "\n",
    "3,5\n",
    "\n",
    "Then, the output of the program should be:\n",
    "\n",
    "[[0, 0, 0, 0, 0], [0, 1, 2, 3, 4], [0, 2, 4, 6, 8]]"
   ]
  },
  {
   "cell_type": "code",
   "execution_count": 33,
   "id": "c68030f0",
   "metadata": {},
   "outputs": [
    {
     "name": "stdout",
     "output_type": "stream",
     "text": [
      "Enter a,b comma separated value: 3,5\n",
      "[[0, 0, 0, 0, 0], [0, 1, 2, 3, 4], [0, 2, 4, 6, 8]]\n"
     ]
    }
   ],
   "source": [
    "a,b=map(int,input(\"Enter a,b comma separated value: \").split(','))\n",
    "l=[]\n",
    "for i in range(a):\n",
    "    r=[]\n",
    "    for j in range(b):\n",
    "        r.insert(j,i*j)\n",
    "    l.append(r)\n",
    "print(l)\n",
    "        "
   ]
  },
  {
   "cell_type": "markdown",
   "id": "30e55b11",
   "metadata": {},
   "source": [
    "Question 3:\n",
    "\n",
    "Write a program that accepts a comma separated sequence of words as input and prints the\n",
    "\n",
    "words in a comma-separated sequence after sorting them alphabetically.\n",
    "\n",
    "Suppose the following input is supplied to the program:\n",
    "\n",
    "without,hello,bag,world\n",
    "\n",
    "Then, the output should be:\n",
    "\n",
    "bag,hello,without,world"
   ]
  },
  {
   "cell_type": "code",
   "execution_count": 29,
   "id": "c9c6bea6",
   "metadata": {},
   "outputs": [
    {
     "name": "stdout",
     "output_type": "stream",
     "text": [
      "Please enter comma separated values: without,hello,bag,world\n",
      "['bag', 'hello', 'without', 'world']\n"
     ]
    }
   ],
   "source": [
    "l=input(\"Please enter comma separated values: \").split(',')\n",
    "l.sort()\n",
    "print(l)"
   ]
  },
  {
   "cell_type": "markdown",
   "id": "21968a5e",
   "metadata": {},
   "source": [
    "Question 4:\n",
    "\n",
    "Write a program that accepts a sequence of whitespace separated words as input and prints\n",
    "\n",
    "the words after removing all duplicate words and sorting them alphanumerically.\n",
    "\n",
    "Suppose the following input is supplied to the program:\n",
    "\n",
    "hello world and practice makes perfect and hello world again\n",
    "\n",
    "Then, the output should be:\n",
    "\n",
    "again and hello makes perfect practice world"
   ]
  },
  {
   "cell_type": "code",
   "execution_count": 31,
   "id": "0deef7ba",
   "metadata": {},
   "outputs": [
    {
     "name": "stdout",
     "output_type": "stream",
     "text": [
      "Enter space separated values: hello world and practice makes perfect and hello world again\n",
      "['again', 'and', 'hello', 'makes', 'perfect', 'practice', 'world']\n"
     ]
    }
   ],
   "source": [
    "l=input(\"Enter space separated values: \").split(\" \")\n",
    "r=[]\n",
    "for i in l:\n",
    "    if i not in r:\n",
    "        r.append(i)\n",
    "r.sort()\n",
    "print(r)"
   ]
  },
  {
   "cell_type": "markdown",
   "id": "6f0e9fda",
   "metadata": {},
   "source": [
    "Question 5:\n",
    "Write a program that accepts a sentence and calculate the number of \n",
    "\n",
    "letters and digits.\n",
    "\n",
    "Suppose the following input is supplied to the program:\n",
    "\n",
    "hello world! 123\n",
    "\n",
    "Then, the output should be:\n",
    "\n",
    "\n",
    "LETTERS 10\n",
    "\n",
    "DIGITS 3"
   ]
  },
  {
   "cell_type": "code",
   "execution_count": 35,
   "id": "4610551d",
   "metadata": {},
   "outputs": [
    {
     "name": "stdout",
     "output_type": "stream",
     "text": [
      "Enter sentence: hello world! 123\n",
      "LETTERS 10\n",
      "DIGITS 3\n"
     ]
    }
   ],
   "source": [
    "a=input(\"Enter sentence: \")\n",
    "alpa=0\n",
    "digit=0\n",
    "for i in a:\n",
    "    if i.isalpha():\n",
    "        alpa+=1\n",
    "    elif i.isdigit():\n",
    "        digit+=1\n",
    "print(\"LETTERS\",alpa)\n",
    "print(\"DIGITS\",digit)\n",
    "    "
   ]
  },
  {
   "cell_type": "markdown",
   "id": "7b4e0382",
   "metadata": {},
   "source": [
    "Question 6:\n",
    "\n",
    "A website requires the users to input username and password to register. Write a program to\n",
    "\n",
    "check the validity of password input by users.\n",
    "\n",
    "Following are the criteria for checking the password:\n",
    "\n",
    "1. At least 1 letter between [a-z]\n",
    "\n",
    "2. At least 1 number between [0-9]\n",
    "\n",
    "1. At least 1 letter between [A-Z]\n",
    "\n",
    "3. At least 1 character from [$#@]\n",
    "\n",
    "4. Minimum length of transaction password: 6\n",
    "\n",
    "5. Maximum length of transaction password: 12\n",
    "\n",
    "Your program should accept a sequence of comma separated passwords and will check them\n",
    "\n",
    "according to the above criteria. Passwords that match the criteria are to be printed, each\n",
    "\n",
    "separated by a comma.\n",
    "\n",
    "Example\n",
    "\n",
    "If the following passwords are given as input to the program:\n",
    "\n",
    "ABd1234@1,a F1#,2w3E*,2We3345\n",
    "\n",
    "Then, the output of the program should be:\n",
    "\n",
    "ABd1234@1"
   ]
  },
  {
   "cell_type": "code",
   "execution_count": 3,
   "id": "88313cb0",
   "metadata": {},
   "outputs": [
    {
     "name": "stdout",
     "output_type": "stream",
     "text": [
      "Enter comma seperated passwords: ABd1234@1,a F1#,2w3E*,2We3345\n",
      "ABd1234@1\n"
     ]
    }
   ],
   "source": [
    "caps=list('ABCDEFGHIJKLMNOPQRSTUVWXYZ')\n",
    "small=list('abcdefghijklmnopqrstuvwxyz')\n",
    "digit=list('1234567890')\n",
    "sp=list('$#@')\n",
    "def checkpassword(a):\n",
    "    cap=0\n",
    "    smal=0\n",
    "    dig=0\n",
    "    special=0\n",
    "    if len(a)>12 or len(a)<6:\n",
    "        return\n",
    "    else:\n",
    "        for i in a:\n",
    "            if i in caps:\n",
    "                cap=1\n",
    "            elif i in small:\n",
    "                smal=1\n",
    "            elif i in digit:\n",
    "                dig=1\n",
    "            elif i in sp:\n",
    "                special=1\n",
    "        if cap==1 and smal ==1 and dig==1 and special==1:\n",
    "            print(a)\n",
    "            \n",
    "l=input(\"Enter comma seperated passwords: \").split(\",\")\n",
    "for i in l:\n",
    "    checkpassword(i)\n"
   ]
  },
  {
   "cell_type": "code",
   "execution_count": null,
   "id": "1cfd6969",
   "metadata": {},
   "outputs": [],
   "source": []
  }
 ],
 "metadata": {
  "kernelspec": {
   "display_name": "Python 3 (ipykernel)",
   "language": "python",
   "name": "python3"
  },
  "language_info": {
   "codemirror_mode": {
    "name": "ipython",
    "version": 3
   },
   "file_extension": ".py",
   "mimetype": "text/x-python",
   "name": "python",
   "nbconvert_exporter": "python",
   "pygments_lexer": "ipython3",
   "version": "3.9.13"
  }
 },
 "nbformat": 4,
 "nbformat_minor": 5
}
