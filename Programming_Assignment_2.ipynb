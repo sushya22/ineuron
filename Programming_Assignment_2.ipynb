{
 "cells": [
  {
   "cell_type": "markdown",
   "id": "3d5fbb7a",
   "metadata": {},
   "source": [
    "1. Write a Python program to convert kilometers to miles?"
   ]
  },
  {
   "cell_type": "code",
   "execution_count": 4,
   "id": "9040f052",
   "metadata": {},
   "outputs": [
    {
     "name": "stdout",
     "output_type": "stream",
     "text": [
      "Enter the km: 20\n"
     ]
    }
   ],
   "source": [
    "a=int(input(\"Enter the km: \"))\n",
    "mile=a*0.62\n"
   ]
  },
  {
   "cell_type": "code",
   "execution_count": 5,
   "id": "95fbabe0",
   "metadata": {},
   "outputs": [
    {
     "name": "stdout",
     "output_type": "stream",
     "text": [
      "20 km = 12.4 miles\n"
     ]
    }
   ],
   "source": [
    "print(a,\"km =\",mile,\"miles\")"
   ]
  },
  {
   "cell_type": "markdown",
   "id": "07051887",
   "metadata": {},
   "source": [
    "2.\tWrite a Python program to convert Celsius to Fahrenheit?"
   ]
  },
  {
   "cell_type": "code",
   "execution_count": 8,
   "id": "efcc3764",
   "metadata": {},
   "outputs": [
    {
     "name": "stdout",
     "output_type": "stream",
     "text": [
      "Enter celsius scale value: 10\n"
     ]
    }
   ],
   "source": [
    "celsius=int(input(\"Enter celsius scale value: \"))\n",
    "f= 32+(celsius*9/5)"
   ]
  },
  {
   "cell_type": "code",
   "execution_count": 9,
   "id": "2c5b1b28",
   "metadata": {},
   "outputs": [
    {
     "name": "stdout",
     "output_type": "stream",
     "text": [
      "10 celsius 50.0 fahrenheit\n"
     ]
    }
   ],
   "source": [
    "print(celsius,\"celsius\",f,\"fahrenheit\")"
   ]
  },
  {
   "cell_type": "markdown",
   "id": "409e4699",
   "metadata": {},
   "source": [
    "3.\tWrite a Python program to display calendar?"
   ]
  },
  {
   "cell_type": "code",
   "execution_count": 10,
   "id": "53be18ba",
   "metadata": {},
   "outputs": [
    {
     "name": "stdout",
     "output_type": "stream",
     "text": [
      "   February 2023\n",
      "Mo Tu We Th Fr Sa Su\n",
      "       1  2  3  4  5\n",
      " 6  7  8  9 10 11 12\n",
      "13 14 15 16 17 18 19\n",
      "20 21 22 23 24 25 26\n",
      "27 28\n",
      "\n"
     ]
    }
   ],
   "source": [
    "import calendar\n",
    "yy=2023\n",
    "mm=2\n",
    "\n",
    "print(calendar.month(yy,mm))"
   ]
  },
  {
   "cell_type": "markdown",
   "id": "4e28f137",
   "metadata": {},
   "source": [
    "4.\tWrite a Python program to solve quadratic equation?"
   ]
  },
  {
   "cell_type": "code",
   "execution_count": 11,
   "id": "f41430b6",
   "metadata": {},
   "outputs": [],
   "source": [
    "#x= (-b+or- sqrt(b**2-4*a*c)) / 2*a"
   ]
  },
  {
   "cell_type": "code",
   "execution_count": 22,
   "id": "4714cc0d",
   "metadata": {},
   "outputs": [
    {
     "name": "stdout",
     "output_type": "stream",
     "text": [
      "Plase enter the x^2 coefficient: 2\n",
      "Plase enter the x coefficient: 2\n",
      "Enter the constant: 2\n",
      "5.0\n",
      "-12\n",
      "(-2+3.4641016151377544j)\n",
      "(-2-3.4641016151377544j)\n"
     ]
    }
   ],
   "source": [
    "import cmath\n",
    "a = int(input(\"Plase enter the x^2 coefficient: \"))\n",
    "b = int(input(\"Plase enter the x coefficient: \"))\n",
    "c = int(input(\"Enter the constant: \"))\n",
    "\n",
    "print(math.sqrt(25))\n",
    "\n",
    "v = int(b**2-4*a*c)\n",
    "print(v)\n",
    "v = cmath.sqrt(-12)\n",
    "\n",
    "x1 = (-b + v) / 2 * a\n",
    "x2 = (-b - v) / 2 * a\n",
    "\n",
    "print(x1)\n",
    "print(x2)"
   ]
  },
  {
   "cell_type": "markdown",
   "id": "0e0f7590",
   "metadata": {},
   "source": [
    "5.\tWrite a Python program to swap two variables without temp variable? "
   ]
  },
  {
   "cell_type": "code",
   "execution_count": 23,
   "id": "0275fd93",
   "metadata": {},
   "outputs": [
    {
     "name": "stdout",
     "output_type": "stream",
     "text": [
      "20 10\n"
     ]
    }
   ],
   "source": [
    "a=10\n",
    "b=20\n",
    "a,b = b,a\n",
    "print(a,b)"
   ]
  },
  {
   "cell_type": "code",
   "execution_count": null,
   "id": "19ecdab6",
   "metadata": {},
   "outputs": [],
   "source": []
  }
 ],
 "metadata": {
  "kernelspec": {
   "display_name": "Python 3 (ipykernel)",
   "language": "python",
   "name": "python3"
  },
  "language_info": {
   "codemirror_mode": {
    "name": "ipython",
    "version": 3
   },
   "file_extension": ".py",
   "mimetype": "text/x-python",
   "name": "python",
   "nbconvert_exporter": "python",
   "pygments_lexer": "ipython3",
   "version": "3.9.13"
  }
 },
 "nbformat": 4,
 "nbformat_minor": 5
}
