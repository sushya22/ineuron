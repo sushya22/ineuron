{
 "cells": [
  {
   "cell_type": "markdown",
   "id": "9d41602e",
   "metadata": {},
   "source": [
    "1. Write a Python Program to Find the Factorial of a Number?"
   ]
  },
  {
   "cell_type": "code",
   "execution_count": 4,
   "id": "a1e8f6af",
   "metadata": {},
   "outputs": [
    {
     "name": "stdout",
     "output_type": "stream",
     "text": [
      "Enter the whole number: 0\n",
      "1\n"
     ]
    }
   ],
   "source": [
    "n=int(input(\"Enter the whole number: \"))\n",
    "fact=1\n",
    "\n",
    "\n",
    "\n",
    "for i in range(1,n+1):\n",
    "    fact=fact*i\n",
    "print(fact)"
   ]
  },
  {
   "cell_type": "markdown",
   "id": "f3ec490b",
   "metadata": {},
   "source": [
    "2.\tWrite a Python Program to Display the multiplication Table?"
   ]
  },
  {
   "cell_type": "code",
   "execution_count": 5,
   "id": "e7f847b3",
   "metadata": {},
   "outputs": [
    {
     "name": "stdout",
     "output_type": "stream",
     "text": [
      "Enter the whole number: 2\n",
      "2 * 1 = 2\n",
      "2 * 2 = 4\n",
      "2 * 3 = 6\n",
      "2 * 4 = 8\n",
      "2 * 5 = 10\n",
      "2 * 6 = 12\n",
      "2 * 7 = 14\n",
      "2 * 8 = 16\n",
      "2 * 9 = 18\n",
      "2 * 10 = 20\n"
     ]
    }
   ],
   "source": [
    "n=int(input(\"Enter the whole number: \"))\n",
    "\n",
    "for i in range(1,11):\n",
    "    print(n,'*',i,'=',n*i)"
   ]
  },
  {
   "cell_type": "markdown",
   "id": "55427bd6",
   "metadata": {},
   "source": [
    "3. Write a Python Program to Print the Fibonacci sequence?"
   ]
  },
  {
   "cell_type": "code",
   "execution_count": 10,
   "id": "0fae7b22",
   "metadata": {},
   "outputs": [
    {
     "name": "stdout",
     "output_type": "stream",
     "text": [
      "how many values you need: 8\n",
      "0\n",
      "1\n",
      "1\n",
      "2\n",
      "3\n",
      "5\n",
      "8\n",
      "13\n"
     ]
    }
   ],
   "source": [
    "a=0\n",
    "b=1\n",
    "\n",
    "n=int(input(\"how many values you need: \"))\n",
    "\n",
    "for i in range(n):\n",
    "    print(a)\n",
    "    c=a\n",
    "    a=b\n",
    "    b=b+c\n"
   ]
  },
  {
   "cell_type": "markdown",
   "id": "543fde5c",
   "metadata": {},
   "source": [
    "4.\tWrite a Python Program to Check Armstrong Number?"
   ]
  },
  {
   "cell_type": "code",
   "execution_count": 24,
   "id": "3741f74b",
   "metadata": {},
   "outputs": [
    {
     "name": "stdout",
     "output_type": "stream",
     "text": [
      "Enter the integer: 120\n",
      "120 is Not Armstrong\n"
     ]
    }
   ],
   "source": [
    "n=int(input(\"Enter the integer: \"))\n",
    "\n",
    "s=len(str(n))\n",
    "\n",
    "def check(number, p):\n",
    "    \n",
    "    s=str(number)\n",
    "    result=0\n",
    "    for i in s:\n",
    "        result=result+int(i)**p\n",
    "        \n",
    "    if result==number:\n",
    "        print(number,\"is Armstrong\")\n",
    "    else:\n",
    "        print(number,\"is Not Armstrong\")\n",
    "\n",
    "check(n,s)\n",
    "        \n",
    "    \n"
   ]
  },
  {
   "cell_type": "markdown",
   "id": "81ec82d2",
   "metadata": {},
   "source": [
    "5.\tWrite a Python Program to Find Armstrong Number in an Interval?"
   ]
  },
  {
   "cell_type": "code",
   "execution_count": 25,
   "id": "e6c26378",
   "metadata": {},
   "outputs": [
    {
     "name": "stdout",
     "output_type": "stream",
     "text": [
      "Enter first number: 1\n",
      "Enter second number: 20\n",
      "1 is Armstrong\n",
      "1\n",
      "2 is Armstrong\n",
      "2\n",
      "3 is Armstrong\n",
      "3\n",
      "4 is Armstrong\n",
      "4\n",
      "5 is Armstrong\n",
      "5\n",
      "6 is Armstrong\n",
      "6\n",
      "7 is Armstrong\n",
      "7\n",
      "8 is Armstrong\n",
      "8\n",
      "9 is Armstrong\n",
      "9\n",
      "10 is Not Armstrong\n",
      "10\n",
      "11 is Not Armstrong\n",
      "11\n",
      "12 is Not Armstrong\n",
      "12\n",
      "13 is Not Armstrong\n",
      "13\n",
      "14 is Not Armstrong\n",
      "14\n",
      "15 is Not Armstrong\n",
      "15\n",
      "16 is Not Armstrong\n",
      "16\n",
      "17 is Not Armstrong\n",
      "17\n",
      "18 is Not Armstrong\n",
      "18\n",
      "19 is Not Armstrong\n",
      "19\n",
      "20 is Not Armstrong\n",
      "20\n"
     ]
    }
   ],
   "source": [
    "a=int(input(\"Enter first number: \"))\n",
    "b=int(input(\"Enter second number: \"))\n",
    "\n",
    "for i in range(a,b+1):\n",
    "    check(i,len(str(i)))\n",
    "    print(i)"
   ]
  },
  {
   "cell_type": "markdown",
   "id": "e1ba0dc4",
   "metadata": {},
   "source": [
    "6. Write a Python Program to Find the Sum of Natural Numbers?"
   ]
  },
  {
   "cell_type": "code",
   "execution_count": 27,
   "id": "6262cd25",
   "metadata": {},
   "outputs": [
    {
     "name": "stdout",
     "output_type": "stream",
     "text": [
      "Enter the integer: 5\n",
      "15.0\n"
     ]
    }
   ],
   "source": [
    "n=int(input(\"Enter the integer: \"))\n",
    "sum=0\n",
    "\n",
    "sum=(n*(n+1))/2\n",
    "\n",
    "print(sum)"
   ]
  },
  {
   "cell_type": "code",
   "execution_count": null,
   "id": "6c0a2850",
   "metadata": {},
   "outputs": [],
   "source": []
  }
 ],
 "metadata": {
  "kernelspec": {
   "display_name": "Python 3 (ipykernel)",
   "language": "python",
   "name": "python3"
  },
  "language_info": {
   "codemirror_mode": {
    "name": "ipython",
    "version": 3
   },
   "file_extension": ".py",
   "mimetype": "text/x-python",
   "name": "python",
   "nbconvert_exporter": "python",
   "pygments_lexer": "ipython3",
   "version": "3.9.13"
  }
 },
 "nbformat": 4,
 "nbformat_minor": 5
}
