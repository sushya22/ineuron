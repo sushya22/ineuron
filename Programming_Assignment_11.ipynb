{
 "cells": [
  {
   "cell_type": "markdown",
   "id": "ef295ad8",
   "metadata": {},
   "source": [
    "1.\tWrite a Python program to find words which are greater than given length k?"
   ]
  },
  {
   "cell_type": "code",
   "execution_count": 1,
   "id": "7965f339",
   "metadata": {},
   "outputs": [
    {
     "name": "stdout",
     "output_type": "stream",
     "text": [
      "sushant\n",
      "virat\n",
      "rohit\n"
     ]
    }
   ],
   "source": [
    "def findstring(s,k):\n",
    "    if len(s)>k:\n",
    "        print(s)\n",
    "        \n",
    "l=['sushant','virat','rohit','ms','sir']\n",
    "\n",
    "for i in l:\n",
    "    findstring(i,3)"
   ]
  },
  {
   "cell_type": "markdown",
   "id": "f67850c7",
   "metadata": {},
   "source": [
    "2.\tWrite a Python program for removing i-th character from a string?"
   ]
  },
  {
   "cell_type": "code",
   "execution_count": 19,
   "id": "d1df3cc2",
   "metadata": {},
   "outputs": [],
   "source": [
    "def removechar(s,i):\n",
    "    if i==0:\n",
    "        return s\n",
    "    if len(s)<i:\n",
    "        return s\n",
    "    return s[:i-1]+s[i:]"
   ]
  },
  {
   "cell_type": "code",
   "execution_count": 20,
   "id": "f041766d",
   "metadata": {},
   "outputs": [
    {
     "name": "stdout",
     "output_type": "stream",
     "text": [
      "sushant\n"
     ]
    }
   ],
   "source": [
    "print(removechar('sushant',0))"
   ]
  },
  {
   "cell_type": "markdown",
   "id": "1f25aeb0",
   "metadata": {},
   "source": [
    "3. Write a Python program to split and join a string?"
   ]
  },
  {
   "cell_type": "code",
   "execution_count": 22,
   "id": "4d3ba9f6",
   "metadata": {},
   "outputs": [
    {
     "data": {
      "text/plain": [
       "'i-am-good-student'"
      ]
     },
     "execution_count": 22,
     "metadata": {},
     "output_type": "execute_result"
    }
   ],
   "source": [
    "s=\"i am good student\"\n",
    "'-'.join(s.split())"
   ]
  },
  {
   "cell_type": "markdown",
   "id": "7035f39f",
   "metadata": {},
   "source": [
    "4. Write a Python to check if a given string is binary string or not?"
   ]
  },
  {
   "cell_type": "code",
   "execution_count": 23,
   "id": "e7d4b440",
   "metadata": {},
   "outputs": [],
   "source": [
    "def checkbinary(s):\n",
    "    for i in s:\n",
    "        if i not in ['0','1']:\n",
    "            print(\"Not binary\")\n",
    "            break\n",
    "            \n",
    "    else:\n",
    "        print(\"Binary\")\n",
    "            "
   ]
  },
  {
   "cell_type": "code",
   "execution_count": 24,
   "id": "697815b5",
   "metadata": {},
   "outputs": [
    {
     "name": "stdout",
     "output_type": "stream",
     "text": [
      "Binary\n"
     ]
    }
   ],
   "source": [
    "checkbinary(\"01001\")"
   ]
  },
  {
   "cell_type": "code",
   "execution_count": 25,
   "id": "5e8c7ae7",
   "metadata": {},
   "outputs": [
    {
     "name": "stdout",
     "output_type": "stream",
     "text": [
      "Not binary\n"
     ]
    }
   ],
   "source": [
    "checkbinary(\"01001s\")"
   ]
  },
  {
   "cell_type": "markdown",
   "id": "413dd631",
   "metadata": {},
   "source": [
    "5.\tWrite a Python program to find uncommon words from two Strings?"
   ]
  },
  {
   "cell_type": "code",
   "execution_count": 26,
   "id": "e7efab3a",
   "metadata": {},
   "outputs": [
    {
     "name": "stdout",
     "output_type": "stream",
     "text": [
      "a\n",
      "t\n"
     ]
    }
   ],
   "source": [
    "a=\"sushant\"\n",
    "b=\"patil\"\n",
    "\n",
    "l=list(a)\n",
    "\n",
    "for i in b:\n",
    "    if i in l:\n",
    "        print(i)"
   ]
  },
  {
   "cell_type": "markdown",
   "id": "96149fa9",
   "metadata": {},
   "source": [
    "6.\tWrite a Python to find all duplicate characters in string?"
   ]
  },
  {
   "cell_type": "code",
   "execution_count": 27,
   "id": "dca71100",
   "metadata": {},
   "outputs": [],
   "source": [
    "s=\"sushant\"\n",
    "d=dict({})\n",
    "for i in s:\n",
    "    if i not in d.keys():\n",
    "        d[i]=1\n",
    "    else:\n",
    "        d[i]=d[i]+1\n",
    "    "
   ]
  },
  {
   "cell_type": "code",
   "execution_count": 29,
   "id": "c915a7dd",
   "metadata": {},
   "outputs": [
    {
     "name": "stdout",
     "output_type": "stream",
     "text": [
      "s\n"
     ]
    }
   ],
   "source": [
    "for k,i in d.items():\n",
    "    if i==2:\n",
    "        print(k)"
   ]
  },
  {
   "cell_type": "markdown",
   "id": "85c863d9",
   "metadata": {},
   "source": [
    "7. Write a Python Program to check if a string contains any special character?"
   ]
  },
  {
   "cell_type": "code",
   "execution_count": 35,
   "id": "bd3ba793",
   "metadata": {},
   "outputs": [
    {
     "data": {
      "text/plain": [
       "False"
      ]
     },
     "execution_count": 35,
     "metadata": {},
     "output_type": "execute_result"
    }
   ],
   "source": [
    "s=\"sushant!\"\n",
    "\n",
    "s.isalnum()"
   ]
  },
  {
   "cell_type": "code",
   "execution_count": null,
   "id": "25e37335",
   "metadata": {},
   "outputs": [],
   "source": []
  }
 ],
 "metadata": {
  "kernelspec": {
   "display_name": "Python 3 (ipykernel)",
   "language": "python",
   "name": "python3"
  },
  "language_info": {
   "codemirror_mode": {
    "name": "ipython",
    "version": 3
   },
   "file_extension": ".py",
   "mimetype": "text/x-python",
   "name": "python",
   "nbconvert_exporter": "python",
   "pygments_lexer": "ipython3",
   "version": "3.9.13"
  }
 },
 "nbformat": 4,
 "nbformat_minor": 5
}
