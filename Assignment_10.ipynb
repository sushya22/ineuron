{
 "cells": [
  {
   "cell_type": "markdown",
   "id": "4abcae1a",
   "metadata": {},
   "source": [
    "1. How do you distinguish between shutil.copy() and shutil.copytree()?"
   ]
  },
  {
   "cell_type": "raw",
   "id": "7bc27d6c",
   "metadata": {},
   "source": [
    "shutil.copy() will copy a single file.\n",
    "shutile.copytree() will copy an entire folder and every folder and file contained in it."
   ]
  },
  {
   "cell_type": "markdown",
   "id": "c0392af6",
   "metadata": {},
   "source": [
    "2. What function is used to rename files??"
   ]
  },
  {
   "cell_type": "code",
   "execution_count": null,
   "id": "a498e0f6",
   "metadata": {},
   "outputs": [],
   "source": [
    "os.rename() renames the file."
   ]
  },
  {
   "cell_type": "markdown",
   "id": "04054246",
   "metadata": {},
   "source": [
    "3. What is the difference between the delete functions in the send2trash and shutil modules?"
   ]
  },
  {
   "cell_type": "raw",
   "id": "ba60b3fa",
   "metadata": {},
   "source": [
    "The send2trash functions will move a file or folder to the recycle bin, while shutil functions will permanently delete files and folders."
   ]
  },
  {
   "cell_type": "markdown",
   "id": "f4a53625",
   "metadata": {},
   "source": [
    "4. ZipFile objects have a close() method just like File objects’ close() method. What ZipFile method is equivalent to File objects’ open() method?"
   ]
  },
  {
   "cell_type": "raw",
   "id": "3499ebc7",
   "metadata": {},
   "source": [
    "zipfile.ZipFile() is equivalent to open() method."
   ]
  },
  {
   "cell_type": "markdown",
   "id": "d565d30c",
   "metadata": {},
   "source": [
    "5. Create a programme that searches a folder tree for files with a certain file extension (such as .pdf or .jpg). Copy these files from whatever location they are in to a new folder."
   ]
  },
  {
   "cell_type": "code",
   "execution_count": 10,
   "id": "9682dd71",
   "metadata": {},
   "outputs": [],
   "source": [
    "import os,shutil\n",
    "sourcepath=\"D:\\python programs\"\n",
    "destpath=\"D:\\osdest\"\n",
    "\n",
    "for foldername, subfolder, filenames in os.walk(sourcepath):\n",
    "    for file in filenames:\n",
    "        if file.lower().endswith('.pdf') or file.lower().endswith('.jpg'):\n",
    "            copysourcepath=os.path.join(foldername,file)\n",
    "            shutil.copy(copysourcepath,destpath)\n",
    "        else:\n",
    "            continue\n",
    "    "
   ]
  },
  {
   "cell_type": "code",
   "execution_count": null,
   "id": "9fabd37b",
   "metadata": {},
   "outputs": [],
   "source": []
  },
  {
   "cell_type": "code",
   "execution_count": null,
   "id": "d33c7d6d",
   "metadata": {},
   "outputs": [],
   "source": []
  },
  {
   "cell_type": "code",
   "execution_count": null,
   "id": "78c552e1",
   "metadata": {},
   "outputs": [],
   "source": []
  }
 ],
 "metadata": {
  "kernelspec": {
   "display_name": "Python 3 (ipykernel)",
   "language": "python",
   "name": "python3"
  },
  "language_info": {
   "codemirror_mode": {
    "name": "ipython",
    "version": 3
   },
   "file_extension": ".py",
   "mimetype": "text/x-python",
   "name": "python",
   "nbconvert_exporter": "python",
   "pygments_lexer": "ipython3",
   "version": "3.9.13"
  }
 },
 "nbformat": 4,
 "nbformat_minor": 5
}
