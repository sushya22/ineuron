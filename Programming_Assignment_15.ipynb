{
 "cells": [
  {
   "cell_type": "markdown",
   "id": "91ffdaf7",
   "metadata": {},
   "source": [
    "Please write a program using generator to print the numbers which can be divisible by 5 and\n",
    "7 between 0 and n in comma separated form while n is input by console.\n",
    "\n",
    "Example:\n",
    "\n",
    "If the following n is given as input to the program:\n",
    "\n",
    "100\n",
    "\n",
    "Then, the output of the program should be:\n",
    "\n",
    "0,35,70"
   ]
  },
  {
   "cell_type": "code",
   "execution_count": 8,
   "id": "93764546",
   "metadata": {},
   "outputs": [
    {
     "name": "stdout",
     "output_type": "stream",
     "text": [
      "Enter the number: 100\n",
      "0,35,70,"
     ]
    }
   ],
   "source": [
    "def generator(n):\n",
    "    i=0\n",
    "    while i<=n:\n",
    "        if i%5==0 and i%7==0:\n",
    "            yield i\n",
    "        i+=1\n",
    "            \n",
    "n=int(input(\"Enter the number: \"))\n",
    "\n",
    "for i in generator(n):\n",
    "    print(i,end=',')"
   ]
  },
  {
   "cell_type": "markdown",
   "id": "0d9f7bd0",
   "metadata": {},
   "source": [
    "3. Please write a program using generator to print the even numbers between 0 and n in comma\n",
    "separated form while n is input by console.\n",
    "\n",
    "Example:\n",
    "\n",
    "If the following n is given as input to the program:\n",
    "\n",
    "10\n",
    "\n",
    "Then, the output of the program should be:\n",
    "\n",
    "0,2,4,6,8,10"
   ]
  },
  {
   "cell_type": "code",
   "execution_count": 22,
   "id": "88138572",
   "metadata": {},
   "outputs": [
    {
     "name": "stdout",
     "output_type": "stream",
     "text": [
      "Enter the N value: 10\n",
      "0, 2, 4, 6, 8, 10\n",
      "0, 2, 4, 6, 8, 10\n"
     ]
    }
   ],
   "source": [
    "def generator(n):\n",
    "    i=0\n",
    "    while i<=n:\n",
    "        if i%2==0:\n",
    "            yield i\n",
    "        i+=1\n",
    "n=int(input(\"Enter the N value: \"))\n",
    "print(*list(generator(n)),sep=\", \")\n",
    "print(', '.join([str(i) for i in list(generator(n))]))"
   ]
  },
  {
   "cell_type": "markdown",
   "id": "ccb315a1",
   "metadata": {},
   "source": [
    "3. The Fibonacci Sequence is computed based on the following formula:\n",
    "\n",
    "f(n)=0 if n=0\n",
    "\n",
    "f(n)=1 if n=1\n",
    "\n",
    "f(n)=f(n-1)+f(n-2) if n&gt;1\n",
    "\n",
    "Please write a program using list comprehension to print the \n",
    "\n",
    "Fibonacci Sequence in comma\n",
    "\n",
    "separated form with a given n input by console.\n",
    "\n",
    "Example:\n",
    "\n",
    "If the following n is given as input to the program:\n",
    "\n",
    "7\n",
    "\n",
    "Then, the output of the program should be:\n",
    "\n",
    "0,1,1,2,3,5,8,13"
   ]
  },
  {
   "cell_type": "code",
   "execution_count": 27,
   "id": "d327d2a4",
   "metadata": {},
   "outputs": [
    {
     "name": "stdout",
     "output_type": "stream",
     "text": [
      "Enter the number: 7\n",
      "0, 1, 1, 2, 3, 5, 8, 13\n"
     ]
    }
   ],
   "source": [
    "def fib(n):\n",
    "    l=[]\n",
    "    a=0\n",
    "    b=1\n",
    "    \n",
    "    \n",
    "    for i in range(n+1):\n",
    "        l.append(a)\n",
    "        a,b=b,a+b\n",
    "    return l\n",
    "\n",
    "n=int(input(\"Enter the number: \"))\n",
    "print(', '.join([str(i) for i in fib(n)]))"
   ]
  },
  {
   "cell_type": "markdown",
   "id": "b73c8738",
   "metadata": {},
   "source": [
    "4. Assuming that we have some email addresses in the &quot;username@companyname.com&quot; format,\n",
    "please write program to print the user name of a given email address. Both user names and\n",
    "company names are composed of letters only.\n",
    "\n",
    "Example:\n",
    "\n",
    "If the following email address is given as input to the program:\n",
    "\n",
    "john@google.com\n",
    "\n",
    "Then, the output of the program should be:\n",
    "\n",
    "john"
   ]
  },
  {
   "cell_type": "code",
   "execution_count": 29,
   "id": "7839e7c4",
   "metadata": {},
   "outputs": [
    {
     "name": "stdout",
     "output_type": "stream",
     "text": [
      "Enter email address: john@google.com\n",
      "john\n"
     ]
    }
   ],
   "source": [
    "def user_name_extract(s):\n",
    "    return s.split('@')[0]\n",
    "\n",
    "s=input(\"Enter email address: \")\n",
    "print(user_name_extract(s))"
   ]
  },
  {
   "cell_type": "markdown",
   "id": "d75bdbae",
   "metadata": {},
   "source": [
    "5. Define a class named Shape and its subclass Square. The Square class has an init function\n",
    "which takes a length as argument. Both classes have a area function which can print the area\n",
    "of the shape where Shape&#39;s area is 0 by default."
   ]
  },
  {
   "cell_type": "code",
   "execution_count": 36,
   "id": "fcd0e196",
   "metadata": {},
   "outputs": [
    {
     "name": "stdout",
     "output_type": "stream",
     "text": [
      "0\n"
     ]
    }
   ],
   "source": [
    "class Shape:\n",
    "    def __init__(self):\n",
    "        self.area=0\n",
    "    def getarea(self):\n",
    "        return self.area\n",
    "class Square(Shape):\n",
    "    def __init__(self,length):\n",
    "        super().__init__()\n",
    "        self.length=length\n",
    "    def getarea(self):\n",
    "        return self.length*self.length\n",
    "    \n",
    "s=Shape()\n",
    "print(s.getarea())"
   ]
  },
  {
   "cell_type": "code",
   "execution_count": 37,
   "id": "f9f35193",
   "metadata": {},
   "outputs": [
    {
     "name": "stdout",
     "output_type": "stream",
     "text": [
      "16\n"
     ]
    }
   ],
   "source": [
    "s=Square(4)\n",
    "print(s.getarea())"
   ]
  },
  {
   "cell_type": "code",
   "execution_count": null,
   "id": "8b922c20",
   "metadata": {},
   "outputs": [],
   "source": []
  }
 ],
 "metadata": {
  "kernelspec": {
   "display_name": "Python 3 (ipykernel)",
   "language": "python",
   "name": "python3"
  },
  "language_info": {
   "codemirror_mode": {
    "name": "ipython",
    "version": 3
   },
   "file_extension": ".py",
   "mimetype": "text/x-python",
   "name": "python",
   "nbconvert_exporter": "python",
   "pygments_lexer": "ipython3",
   "version": "3.9.13"
  }
 },
 "nbformat": 4,
 "nbformat_minor": 5
}
