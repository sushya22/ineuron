{
 "cells": [
  {
   "cell_type": "markdown",
   "id": "59b070f6",
   "metadata": {},
   "source": [
    "1. Define a class with a generator which can iterate the numbers, which are divisible by\n",
    "7, between a given range 0 and n."
   ]
  },
  {
   "cell_type": "code",
   "execution_count": 1,
   "id": "7ae2f607",
   "metadata": {},
   "outputs": [
    {
     "name": "stdout",
     "output_type": "stream",
     "text": [
      "Enter the integer: 20\n",
      "0\n",
      "7\n",
      "14\n"
     ]
    }
   ],
   "source": [
    "def generator(n):\n",
    "    i=0\n",
    "    while i<n:\n",
    "        if i%7==0:\n",
    "            yield i\n",
    "        i+=1\n",
    "n=int(input(\"Enter the integer: \"))\n",
    "for i in generator(n):\n",
    "    print(i)"
   ]
  },
  {
   "cell_type": "markdown",
   "id": "1f8a13c3",
   "metadata": {},
   "source": [
    "2. Write a program to compute the frequency of the words from the input. The output\n",
    "\n",
    "should output after sorting the key alphanumerically.\n",
    "\n",
    "Suppose the following input is supplied to the program:\n",
    "\n",
    "New to Python or choosing between Python 2 and Python 3? Read Python 2 or\n",
    "\n",
    "Python 3.\n",
    "\n",
    "Then, the output should be:\n",
    "\n",
    "2:2\n",
    "\n",
    "3.:1\n",
    "\n",
    "3?:1\n",
    "\n",
    "New:1\n",
    "\n",
    "Python:5\n",
    "\n",
    "Read:1\n",
    "\n",
    "and:1\n",
    "\n",
    "between:1\n",
    "\n",
    "choosing:1\n",
    "\n",
    "or:2\n",
    "\n",
    "to:1"
   ]
  },
  {
   "cell_type": "code",
   "execution_count": 5,
   "id": "e53bac89",
   "metadata": {},
   "outputs": [
    {
     "name": "stdout",
     "output_type": "stream",
     "text": [
      "Enter the sentenceNew to Python or choosing between Python 2 and Python 3? Read Python 2 or Python 3.\n",
      "2 : 2\n",
      "3. : 1\n",
      "3? : 1\n",
      "New : 1\n",
      "Python : 5\n",
      "Read : 1\n",
      "and : 1\n",
      "between : 1\n",
      "choosing : 1\n",
      "or : 2\n",
      "to : 1\n"
     ]
    }
   ],
   "source": [
    "def checkfrequency(n):\n",
    "    d=dict({})\n",
    "    for i in n:\n",
    "        if i not in d.keys():\n",
    "            d[i]=1\n",
    "        else:\n",
    "            d[i]=d[i]+1\n",
    "    l=list(d.keys())\n",
    "    l.sort()\n",
    "    for i in l:\n",
    "        print(i,\":\",d[i])\n",
    "    \n",
    "\n",
    "l=input(\"Enter the sentence\").split()\n",
    "\n",
    "checkfrequency(l)\n"
   ]
  },
  {
   "cell_type": "markdown",
   "id": "fd523383",
   "metadata": {},
   "source": [
    "3. Define a class Person and its two child classes: Male and Female. All classes have a\n",
    "method &quot;getGender&quot; which can print &quot;Male&quot; for Male class and &quot;Female&quot; for Female\n",
    "class."
   ]
  },
  {
   "cell_type": "code",
   "execution_count": 18,
   "id": "29d3734e",
   "metadata": {},
   "outputs": [],
   "source": [
    "from abc import ABC,abstractmethod\n",
    "class Person(ABC):\n",
    "    def __init__(self,sex):\n",
    "        self.sex=sex\n",
    "    \n",
    "    @abstractmethod\n",
    "    def getGender(self):\n",
    "        pass\n",
    "class Male(Person):\n",
    "    def getGender(self):\n",
    "        return self.sex\n",
    "    def __init__(self,sex):\n",
    "        super().__init__(sex)\n",
    "\n",
    "class Female(Person):\n",
    "    def getGender(self):\n",
    "        return self.sex\n",
    "    def __init__(self,sex):\n",
    "        super().__init__(sex)\n",
    "a=Male(\"Male\")\n",
    "b=Female(\"Female\")\n",
    "\n"
   ]
  },
  {
   "cell_type": "code",
   "execution_count": 19,
   "id": "2c665241",
   "metadata": {},
   "outputs": [
    {
     "data": {
      "text/plain": [
       "'Male'"
      ]
     },
     "execution_count": 19,
     "metadata": {},
     "output_type": "execute_result"
    }
   ],
   "source": [
    "a.getGender()"
   ]
  },
  {
   "cell_type": "code",
   "execution_count": 20,
   "id": "8f7dd1ca",
   "metadata": {},
   "outputs": [
    {
     "data": {
      "text/plain": [
       "'Female'"
      ]
     },
     "execution_count": 20,
     "metadata": {},
     "output_type": "execute_result"
    }
   ],
   "source": [
    "b.getGender()"
   ]
  },
  {
   "cell_type": "markdown",
   "id": "bc2047a8",
   "metadata": {},
   "source": [
    "4. Please write a program to generate all sentences where subject is in [&quot;I&quot;, &quot;You&quot;] and\n",
    "verb is in [&quot;Play&quot;, &quot;Love&quot;] and the object is in [&quot;Hockey&quot;,&quot;Football&quot;]."
   ]
  },
  {
   "cell_type": "code",
   "execution_count": 21,
   "id": "26064869",
   "metadata": {},
   "outputs": [
    {
     "name": "stdout",
     "output_type": "stream",
     "text": [
      "i Play Hockey\n",
      "i Play Football\n",
      "i Love Hockey\n",
      "i Love Football\n",
      "You Play Hockey\n",
      "You Play Football\n",
      "You Love Hockey\n",
      "You Love Football\n"
     ]
    }
   ],
   "source": [
    "def generate():\n",
    "    s=[\"i\",\"You\"]\n",
    "    v=[\"Play\",\"Love\"]\n",
    "    o=[\"Hockey\",\"Football\"]\n",
    "    l=[]\n",
    "    for i in s:\n",
    "        for j in v:\n",
    "            for k in o:\n",
    "                l.append(f\"{i} {j} {k}\")\n",
    "                \n",
    "    for i in l:\n",
    "        print(i)\n",
    "generate()"
   ]
  },
  {
   "cell_type": "markdown",
   "id": "26972da0",
   "metadata": {},
   "source": [
    "5. Please write a program to compress and decompress the string &quot;hello world!hello\n",
    "world!hello world!hello world!&quot;."
   ]
  },
  {
   "cell_type": "code",
   "execution_count": 24,
   "id": "7ffecc7e",
   "metadata": {},
   "outputs": [],
   "source": [
    "import gzip\n",
    "s=b'hello world!hello world!hello world!hello world!'\n",
    "s=gzip.compress(s)"
   ]
  },
  {
   "cell_type": "code",
   "execution_count": 26,
   "id": "8fd540db",
   "metadata": {},
   "outputs": [
    {
     "name": "stdout",
     "output_type": "stream",
     "text": [
      "b'hello world!hello world!hello world!hello world!'\n"
     ]
    }
   ],
   "source": [
    "d=gzip.decompress(s)\n",
    "print(d)"
   ]
  },
  {
   "cell_type": "markdown",
   "id": "a4a6e66e",
   "metadata": {},
   "source": [
    "6. Please write a binary search function which searches an item in a sorted list. The\n",
    "function should return the index of element to be searched in the list."
   ]
  },
  {
   "cell_type": "code",
   "execution_count": 35,
   "id": "5878d059",
   "metadata": {},
   "outputs": [
    {
     "name": "stdout",
     "output_type": "stream",
     "text": [
      "4\n"
     ]
    }
   ],
   "source": [
    "def binary(l,value):\n",
    "    left=0\n",
    "    right=len(l)-1\n",
    "    \n",
    "    while left<=right:\n",
    "        mid=(left+right)//2\n",
    "        \n",
    "        if l[mid]==value:\n",
    "            return mid\n",
    "        elif l[mid]<value:\n",
    "            left=mid+1\n",
    "        elif l[mid]>value:\n",
    "            right=mid-1\n",
    "    return -1\n",
    "\n",
    "l=[1,2,5,6,8,9]\n",
    "print(binary(l,8))"
   ]
  },
  {
   "cell_type": "code",
   "execution_count": null,
   "id": "3b463ff0",
   "metadata": {},
   "outputs": [],
   "source": []
  }
 ],
 "metadata": {
  "kernelspec": {
   "display_name": "Python 3 (ipykernel)",
   "language": "python",
   "name": "python3"
  },
  "language_info": {
   "codemirror_mode": {
    "name": "ipython",
    "version": 3
   },
   "file_extension": ".py",
   "mimetype": "text/x-python",
   "name": "python",
   "nbconvert_exporter": "python",
   "pygments_lexer": "ipython3",
   "version": "3.9.13"
  }
 },
 "nbformat": 4,
 "nbformat_minor": 5
}
