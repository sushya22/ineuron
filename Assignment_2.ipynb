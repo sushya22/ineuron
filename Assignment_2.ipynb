{
 "cells": [
  {
   "cell_type": "markdown",
   "id": "b12b8304",
   "metadata": {},
   "source": [
    "1. What are the two values of the Boolean data type? How do you write them?\n",
    "\n",
    "\n",
    "\n",
    "\n",
    "\n",
    "    "
   ]
  },
  {
   "cell_type": "code",
   "execution_count": null,
   "id": "3235a51f",
   "metadata": {},
   "outputs": [],
   "source": [
    "Two values of boolean datatype\n",
    "1. True\n",
    "2. False"
   ]
  },
  {
   "cell_type": "markdown",
   "id": "913298ea",
   "metadata": {},
   "source": [
    "2. What are the three different types of Boolean operators?\n"
   ]
  },
  {
   "cell_type": "code",
   "execution_count": null,
   "id": "ee129cfd",
   "metadata": {},
   "outputs": [],
   "source": [
    "1. and example: 10 and 0 => False\n",
    "\n",
    "2. or example: 10 or 0 => True\n",
    "\n",
    "3. not example: not 10 => False"
   ]
  },
  {
   "cell_type": "markdown",
   "id": "a411749a",
   "metadata": {},
   "source": [
    "3. Make a list of each Boolean operator's truth tables (i.e. every possible combination of Boolean values for the operator and what it evaluate )."
   ]
  },
  {
   "cell_type": "code",
   "execution_count": null,
   "id": "d1d693d4",
   "metadata": {},
   "outputs": [],
   "source": [
    "Truth table of and operator\n",
    "\n",
    "a    b    result\n",
    "0    0      0\n",
    "1    0      0\n",
    "0    1      0\n",
    "1    1      1\n",
    "\n",
    "Truth table of or operator\n",
    "\n",
    "a    b    result\n",
    "0    0      0\n",
    "1    0      1\n",
    "0    1      1\n",
    "1    1      1\n",
    "\n",
    "Truth table of not operator\n",
    "\n",
    "a    result\n",
    "0      1\n",
    "1      0"
   ]
  },
  {
   "cell_type": "markdown",
   "id": "3b214bd3",
   "metadata": {},
   "source": [
    "4. What are the values of the following expressions?"
   ]
  },
  {
   "cell_type": "code",
   "execution_count": null,
   "id": "0fe39652",
   "metadata": {},
   "outputs": [],
   "source": [
    "a. (5 > 4) and (3 == 5)\n",
    "   False\n",
    "   \n",
    "b. not (5 > 4)\n",
    "   False\n",
    "   \n",
    "c. (5 > 4) or (3 == 5)\n",
    "   True\n",
    "   \n",
    "d. not ((5 > 4) or (3 == 5))\n",
    "   False\n",
    "\n",
    "e. (True and True) and (True == False)\n",
    "   False\n",
    "   \n",
    "f. (not False) or (not True)\n",
    "   True"
   ]
  },
  {
   "cell_type": "markdown",
   "id": "aa2a071f",
   "metadata": {},
   "source": [
    "5. What are the six comparison operators?"
   ]
  },
  {
   "cell_type": "code",
   "execution_count": null,
   "id": "e92135e6",
   "metadata": {},
   "outputs": [],
   "source": [
    "1. ==\n",
    "2. !=\n",
    "3. >\n",
    "4. <\n",
    "5. >=\n",
    "6. <="
   ]
  },
  {
   "cell_type": "markdown",
   "id": "ab7770c4",
   "metadata": {},
   "source": [
    "6. How do you tell the difference between the equal to and assignment operators?Describe a condition and when you would use one."
   ]
  },
  {
   "cell_type": "code",
   "execution_count": null,
   "id": "304a6f27",
   "metadata": {},
   "outputs": [],
   "source": [
    "\"equal\" operator uses \"==\" symbol \n",
    "        example: a==10 this will check whether a is equal to 10\n",
    "        \n",
    "\"assignment\" operatot uses \"=\" symbol\n",
    "        example: a=10 this will assign value 10 to variable 'a'"
   ]
  },
  {
   "cell_type": "markdown",
   "id": "fd47895b",
   "metadata": {},
   "source": [
    "7. Identify the three blocks in this code:"
   ]
  },
  {
   "cell_type": "code",
   "execution_count": null,
   "id": "d6d4463a",
   "metadata": {},
   "outputs": [],
   "source": [
    "spam = 0\n",
    "if spam == 10:\n",
    "    print('eggs')     #=========> First block\n",
    "if spam > 5:\n",
    "    print('bacon')    #=========> Second block\n",
    "else:\n",
    "    print('ham')\n",
    "    print('spam')     #=========> Third block\n",
    "    print('spam')"
   ]
  },
  {
   "cell_type": "markdown",
   "id": "6c326264",
   "metadata": {},
   "source": [
    "8. Write code that prints Hello if 1 is stored in spam, prints Howdy if 2 is stored in spam, and prints Greetings! if anything else is stored in spam."
   ]
  },
  {
   "cell_type": "code",
   "execution_count": 7,
   "id": "76cc2523",
   "metadata": {},
   "outputs": [
    {
     "name": "stdout",
     "output_type": "stream",
     "text": [
      "Hello\n"
     ]
    }
   ],
   "source": [
    "spam=1\n",
    "\n",
    "if spam==1:\n",
    "    print(\"Hello\")\n",
    "elif spam==2:\n",
    "    print(\"Howdy\")\n",
    "else:\n",
    "    print(\"Greetings!\")"
   ]
  },
  {
   "cell_type": "markdown",
   "id": "b02385bd",
   "metadata": {},
   "source": [
    "   \n",
    "9. If your programme is stuck in an endless loop, what keys you’ll press?"
   ]
  },
  {
   "cell_type": "code",
   "execution_count": null,
   "id": "f0fcd17a",
   "metadata": {},
   "outputs": [],
   "source": [
    "CTRL + C"
   ]
  },
  {
   "cell_type": "markdown",
   "id": "09950aec",
   "metadata": {},
   "source": [
    "10. How can you tell the difference between break and continue?"
   ]
  },
  {
   "cell_type": "code",
   "execution_count": 9,
   "id": "567ebfc8",
   "metadata": {},
   "outputs": [
    {
     "name": "stdout",
     "output_type": "stream",
     "text": [
      "10\n"
     ]
    }
   ],
   "source": [
    "#\"break\" statement is used to break the execution of loop it makes\n",
    "#interpreter to execute statement present after the loop.\n",
    "\n",
    "#\"continue\" statement is used to continue the execution of loop by \n",
    "#skipping the execution of statements present after the continue statement.\n",
    "\n",
    "#example:\n",
    "\n",
    "a=1\n",
    "\n",
    "while True:\n",
    "    if a==10:\n",
    "        print(a)\n",
    "        break\n",
    "    \n",
    "    a=a+1\n",
    "    \n",
    "    continue\n",
    "    print(\"This statement does not print\")"
   ]
  },
  {
   "cell_type": "markdown",
   "id": "f35c5bd3",
   "metadata": {},
   "source": [
    "11. In a for loop, what is the difference between range(10), range(0, 10), and range(0, 10, 1)"
   ]
  },
  {
   "cell_type": "code",
   "execution_count": null,
   "id": "575afad3",
   "metadata": {},
   "outputs": [],
   "source": [
    "There is no difference between the expressions all produce the \n",
    "same result."
   ]
  },
  {
   "cell_type": "markdown",
   "id": "08894121",
   "metadata": {},
   "source": [
    "12. Write a short program that prints the numbers 1 to 10 using a for loop. Then write an equivalent program that prints the numbers 1 to 10 using a while loop."
   ]
  },
  {
   "cell_type": "code",
   "execution_count": 1,
   "id": "af53ad9a",
   "metadata": {},
   "outputs": [
    {
     "name": "stdout",
     "output_type": "stream",
     "text": [
      "1\n",
      "2\n",
      "3\n",
      "4\n",
      "5\n",
      "6\n",
      "7\n",
      "8\n",
      "9\n",
      "10\n"
     ]
    }
   ],
   "source": [
    "for i in range(1,11):\n",
    "    print(i)"
   ]
  },
  {
   "cell_type": "code",
   "execution_count": 2,
   "id": "3d6dbedc",
   "metadata": {},
   "outputs": [
    {
     "name": "stdout",
     "output_type": "stream",
     "text": [
      "1\n",
      "2\n",
      "3\n",
      "4\n",
      "5\n",
      "6\n",
      "7\n",
      "8\n",
      "9\n",
      "10\n"
     ]
    }
   ],
   "source": [
    "i=1\n",
    "\n",
    "while i<=10:\n",
    "    print(i)\n",
    "    i+=1"
   ]
  },
  {
   "cell_type": "markdown",
   "id": "883891db",
   "metadata": {},
   "source": [
    "13. If you had a function named bacon() inside a module named spam, how would you call it after importing spam?"
   ]
  },
  {
   "cell_type": "code",
   "execution_count": null,
   "id": "d201912a",
   "metadata": {},
   "outputs": [],
   "source": [
    "import spam \n",
    "#calling the function bacon()\n",
    "\n",
    "spam.bacon()"
   ]
  }
 ],
 "metadata": {
  "kernelspec": {
   "display_name": "Python 3 (ipykernel)",
   "language": "python",
   "name": "python3"
  },
  "language_info": {
   "codemirror_mode": {
    "name": "ipython",
    "version": 3
   },
   "file_extension": ".py",
   "mimetype": "text/x-python",
   "name": "python",
   "nbconvert_exporter": "python",
   "pygments_lexer": "ipython3",
   "version": "3.9.13"
  }
 },
 "nbformat": 4,
 "nbformat_minor": 5
}
