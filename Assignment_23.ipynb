{
 "cells": [
  {
   "cell_type": "markdown",
   "id": "01d307c7",
   "metadata": {},
   "source": [
    "1. What is the result of the code, and why?\n",
    "\n",
    "&gt;&gt;&gt; def func(a, b=6, c=8):\n",
    "\n",
    "    print(a, b, c)\n",
    "\n",
    "&gt;&gt;&gt; func(1, 2)"
   ]
  },
  {
   "cell_type": "markdown",
   "id": "1112c343",
   "metadata": {},
   "source": [
    "result:\n",
    "    \n",
    "    1 2 8\n",
    "    \n",
    "function func() is called with 2 arguments hence third argument will be consider the default value.\n",
    "\n",
    "hence it will print 1 2 8 on screen"
   ]
  },
  {
   "cell_type": "markdown",
   "id": "ae8e471b",
   "metadata": {},
   "source": [
    "2. What is the result of this code, and why?\n",
    "\n",
    "&gt;&gt;&gt; def func(a, b, c=5):\n",
    "\n",
    "print(a, b, c)\n",
    "\n",
    "&gt;&gt;&gt; func(1, c=3, b=2)"
   ]
  },
  {
   "cell_type": "markdown",
   "id": "61ab13e5",
   "metadata": {},
   "source": [
    "result:\n",
    "    \n",
    "    1 2 3\n",
    "    \n",
    "we can pass key word arguments out of order also. still it will consider the same."
   ]
  },
  {
   "cell_type": "markdown",
   "id": "28cad336",
   "metadata": {},
   "source": [
    "3. How about this code: what is its result, and why?\n",
    "\n",
    "&gt;&gt;&gt; def func(a, *pargs):\n",
    "\n",
    "print(a, pargs)\n",
    "\n",
    "&gt;&gt;&gt; func(1, 2, 3)"
   ]
  },
  {
   "cell_type": "markdown",
   "id": "f14a2018",
   "metadata": {},
   "source": [
    "result:\n",
    "    \n",
    "    1 (2,3)\n",
    "    \n",
    "*args is tuple containing multiple elements."
   ]
  },
  {
   "cell_type": "markdown",
   "id": "148c1da5",
   "metadata": {},
   "source": [
    "4. What does this code print, and why?\n",
    "\n",
    "&gt;&gt;&gt; def func(a, **kargs):\n",
    "\n",
    "    print(a, kargs)\n",
    "\n",
    "&gt;&gt;&gt; func(a=1, c=3, b=2)"
   ]
  },
  {
   "cell_type": "markdown",
   "id": "405c6d66",
   "metadata": {},
   "source": [
    "result:\n",
    "    \n",
    "    1 {'c':3,'b':2}\n",
    "    \n",
    "**kargs takes key word arguments in the form of dictionary."
   ]
  },
  {
   "cell_type": "markdown",
   "id": "e36a6738",
   "metadata": {},
   "source": [
    "5. What gets printed by this, and explain?\n",
    "\n",
    "&gt;&gt;&gt; def func(a, b, c=8, d=5): print(a, b, c, d)\n",
    "\n",
    "&gt;&gt;&gt; func(1, *(5, 6))"
   ]
  },
  {
   "cell_type": "markdown",
   "id": "91a10e5c",
   "metadata": {},
   "source": [
    "result:\n",
    "    \n",
    "    1 5 6 5\n",
    "    \n",
    "for parameter a 1 is passed and for b and c tuple is passed and d will take default value as argument."
   ]
  },
  {
   "cell_type": "markdown",
   "id": "7281c373",
   "metadata": {},
   "source": [
    "6. what is the result of this, and explain?\n",
    "\n",
    "&gt;&gt;&gt; def func(a, b, c): a = 2; b[0] = 'x'; c['a'] = 'y';\n",
    "\n",
    "&gt;&gt;&gt; l=1; m=[1]; n={'a';:0}\n",
    "\n",
    "&gt;&gt;&gt; func(l, m, n)\n",
    "\n",
    "&gt;&gt;&gt; l, m, n"
   ]
  },
  {
   "cell_type": "markdown",
   "id": "1cab0093",
   "metadata": {},
   "source": [
    "result:\n",
    "\n",
    "     1 [1] {'a':0}\n",
    "    \n",
    "there is no change of l m and n all changes performed will be only on local variable."
   ]
  }
 ],
 "metadata": {
  "kernelspec": {
   "display_name": "Python 3 (ipykernel)",
   "language": "python",
   "name": "python3"
  },
  "language_info": {
   "codemirror_mode": {
    "name": "ipython",
    "version": 3
   },
   "file_extension": ".py",
   "mimetype": "text/x-python",
   "name": "python",
   "nbconvert_exporter": "python",
   "pygments_lexer": "ipython3",
   "version": "3.9.13"
  }
 },
 "nbformat": 4,
 "nbformat_minor": 5
}
