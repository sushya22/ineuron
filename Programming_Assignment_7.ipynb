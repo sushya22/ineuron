{
 "cells": [
  {
   "cell_type": "markdown",
   "id": "dba824a7",
   "metadata": {},
   "source": [
    "1. Write a Python Program to find sum of array?"
   ]
  },
  {
   "cell_type": "code",
   "execution_count": 1,
   "id": "def88170",
   "metadata": {},
   "outputs": [
    {
     "data": {
      "text/plain": [
       "122"
      ]
     },
     "execution_count": 1,
     "metadata": {},
     "output_type": "execute_result"
    }
   ],
   "source": [
    "l=[1,2,3,5,6,7,8,90]\n",
    "sum(l)"
   ]
  },
  {
   "cell_type": "code",
   "execution_count": 2,
   "id": "d5864088",
   "metadata": {},
   "outputs": [
    {
     "data": {
      "text/plain": [
       "114"
      ]
     },
     "execution_count": 2,
     "metadata": {},
     "output_type": "execute_result"
    }
   ],
   "source": [
    "t=(1,2,3,4,5,99)\n",
    "sum(t)"
   ]
  },
  {
   "cell_type": "markdown",
   "id": "0791e18c",
   "metadata": {},
   "source": [
    "2.\tWrite a Python Program to find largest element in an array?"
   ]
  },
  {
   "cell_type": "code",
   "execution_count": 3,
   "id": "0eb81a87",
   "metadata": {},
   "outputs": [
    {
     "data": {
      "text/plain": [
       "90"
      ]
     },
     "execution_count": 3,
     "metadata": {},
     "output_type": "execute_result"
    }
   ],
   "source": [
    "max(l)"
   ]
  },
  {
   "cell_type": "code",
   "execution_count": 4,
   "id": "055fdf7e",
   "metadata": {},
   "outputs": [
    {
     "data": {
      "text/plain": [
       "99"
      ]
     },
     "execution_count": 4,
     "metadata": {},
     "output_type": "execute_result"
    }
   ],
   "source": [
    "max(t)"
   ]
  },
  {
   "cell_type": "markdown",
   "id": "2e63878b",
   "metadata": {},
   "source": [
    "3.\tWrite a Python Program for array rotation?"
   ]
  },
  {
   "cell_type": "code",
   "execution_count": 9,
   "id": "73a7e28a",
   "metadata": {},
   "outputs": [
    {
     "data": {
      "text/plain": [
       "[7, 6, 5, 4, 3, 2, 1]"
      ]
     },
     "execution_count": 9,
     "metadata": {},
     "output_type": "execute_result"
    }
   ],
   "source": [
    "l=[1,2,3,4,5,6,7]\n",
    "list(reversed(l))"
   ]
  },
  {
   "cell_type": "code",
   "execution_count": 12,
   "id": "cd4bd9c7",
   "metadata": {},
   "outputs": [
    {
     "data": {
      "text/plain": [
       "[99, 5, 4, 3, 2, 1]"
      ]
     },
     "execution_count": 12,
     "metadata": {},
     "output_type": "execute_result"
    }
   ],
   "source": [
    "list(reversed(t))"
   ]
  },
  {
   "cell_type": "markdown",
   "id": "567aeb26",
   "metadata": {},
   "source": [
    "4.\tWrite a Python Program to Split the array and add the first part to the end?"
   ]
  },
  {
   "cell_type": "code",
   "execution_count": 27,
   "id": "2f0b9c77",
   "metadata": {},
   "outputs": [],
   "source": [
    "import math\n",
    "l=[1,2,5,6,7,8,9,0,3,8]\n",
    "length=math.floor((len(l)/2)-1)"
   ]
  },
  {
   "cell_type": "code",
   "execution_count": 28,
   "id": "e42bb1f1",
   "metadata": {},
   "outputs": [
    {
     "data": {
      "text/plain": [
       "4"
      ]
     },
     "execution_count": 28,
     "metadata": {},
     "output_type": "execute_result"
    }
   ],
   "source": [
    "length"
   ]
  },
  {
   "cell_type": "code",
   "execution_count": 30,
   "id": "3f31e31b",
   "metadata": {},
   "outputs": [],
   "source": [
    "a=l[:length+1]\n",
    "del l[:length+1]"
   ]
  },
  {
   "cell_type": "code",
   "execution_count": 31,
   "id": "119e311e",
   "metadata": {},
   "outputs": [],
   "source": [
    "for i in a:\n",
    "    l.append(i)"
   ]
  },
  {
   "cell_type": "code",
   "execution_count": 32,
   "id": "3bbc57c6",
   "metadata": {},
   "outputs": [
    {
     "data": {
      "text/plain": [
       "[8, 9, 0, 3, 8, 1, 2, 5, 6, 7]"
      ]
     },
     "execution_count": 32,
     "metadata": {},
     "output_type": "execute_result"
    }
   ],
   "source": [
    "l"
   ]
  },
  {
   "cell_type": "markdown",
   "id": "c80c3744",
   "metadata": {},
   "source": [
    "5.\tWrite a Python Program to check if given array is Monotonic?"
   ]
  },
  {
   "cell_type": "code",
   "execution_count": 37,
   "id": "6fc3c0ef",
   "metadata": {},
   "outputs": [
    {
     "name": "stdout",
     "output_type": "stream",
     "text": [
      "Not monotonic\n"
     ]
    }
   ],
   "source": [
    "l=[1,2,3,5,8,1]\n",
    "\n",
    "for i in range(0,len(l)-1):\n",
    "    if l[i]>l[i+1]:\n",
    "        print(\"Not monotonic\")\n",
    "        break\n",
    "else:\n",
    "    print(\"Monotonic\")"
   ]
  },
  {
   "cell_type": "code",
   "execution_count": null,
   "id": "807bfa95",
   "metadata": {},
   "outputs": [],
   "source": []
  }
 ],
 "metadata": {
  "kernelspec": {
   "display_name": "Python 3 (ipykernel)",
   "language": "python",
   "name": "python3"
  },
  "language_info": {
   "codemirror_mode": {
    "name": "ipython",
    "version": 3
   },
   "file_extension": ".py",
   "mimetype": "text/x-python",
   "name": "python",
   "nbconvert_exporter": "python",
   "pygments_lexer": "ipython3",
   "version": "3.9.13"
  }
 },
 "nbformat": 4,
 "nbformat_minor": 5
}
