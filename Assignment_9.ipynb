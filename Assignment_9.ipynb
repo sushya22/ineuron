{
 "cells": [
  {
   "cell_type": "markdown",
   "id": "721279e2",
   "metadata": {},
   "source": [
    "1. To what does a relative path refer?"
   ]
  },
  {
   "cell_type": "code",
   "execution_count": null,
   "id": "147eb017",
   "metadata": {},
   "outputs": [],
   "source": [
    "relative path is a way to specify the location of the directory relative to another directory."
   ]
  },
  {
   "cell_type": "markdown",
   "id": "888920d3",
   "metadata": {},
   "source": [
    "2. What does an absolute path start with your operating system?"
   ]
  },
  {
   "cell_type": "code",
   "execution_count": null,
   "id": "e14e07d5",
   "metadata": {},
   "outputs": [],
   "source": [
    "absolute path specify the location of the file from root directory"
   ]
  },
  {
   "cell_type": "markdown",
   "id": "f44ac329",
   "metadata": {},
   "source": [
    "3. What do the functions os.getcwd() and os.chdir() do?\n"
   ]
  },
  {
   "cell_type": "code",
   "execution_count": null,
   "id": "bd6ccbc2",
   "metadata": {},
   "outputs": [],
   "source": [
    "os.getcwd() give the current working directory"
   ]
  },
  {
   "cell_type": "code",
   "execution_count": 1,
   "id": "c15a742d",
   "metadata": {},
   "outputs": [
    {
     "data": {
      "text/plain": [
       "'C:\\\\Users\\\\HP\\\\Desktop\\\\jupyter notebook'"
      ]
     },
     "execution_count": 1,
     "metadata": {},
     "output_type": "execute_result"
    }
   ],
   "source": [
    "import os\n",
    "os.getcwd()"
   ]
  },
  {
   "cell_type": "code",
   "execution_count": null,
   "id": "7000c786",
   "metadata": {},
   "outputs": [],
   "source": [
    "os.chdir() used to change the directory."
   ]
  },
  {
   "cell_type": "code",
   "execution_count": 2,
   "id": "dd03886a",
   "metadata": {},
   "outputs": [],
   "source": [
    "os.chdir(\"C:\\\\Users\\\\HP\\\\Desktop\")"
   ]
  },
  {
   "cell_type": "code",
   "execution_count": 3,
   "id": "dfba94dd",
   "metadata": {},
   "outputs": [
    {
     "data": {
      "text/plain": [
       "'C:\\\\Users\\\\HP\\\\Desktop'"
      ]
     },
     "execution_count": 3,
     "metadata": {},
     "output_type": "execute_result"
    }
   ],
   "source": [
    "os.getcwd()"
   ]
  },
  {
   "cell_type": "code",
   "execution_count": 4,
   "id": "b38ab74e",
   "metadata": {},
   "outputs": [],
   "source": [
    "os.chdir(\"C:\\\\Users\\\\HP\\\\Desktop\\\\jupyter notebook\")"
   ]
  },
  {
   "cell_type": "code",
   "execution_count": 5,
   "id": "c53d271f",
   "metadata": {},
   "outputs": [
    {
     "data": {
      "text/plain": [
       "'C:\\\\Users\\\\HP\\\\Desktop\\\\jupyter notebook'"
      ]
     },
     "execution_count": 5,
     "metadata": {},
     "output_type": "execute_result"
    }
   ],
   "source": [
    "os.getcwd()"
   ]
  },
  {
   "cell_type": "markdown",
   "id": "d930b890",
   "metadata": {},
   "source": [
    "4. What are the . and .. folders?"
   ]
  },
  {
   "cell_type": "code",
   "execution_count": null,
   "id": "5044ab17",
   "metadata": {},
   "outputs": [],
   "source": [
    ". means current directory\n",
    ".. means parent directory"
   ]
  },
  {
   "cell_type": "markdown",
   "id": "8883b1e7",
   "metadata": {},
   "source": [
    "5. In C:\\bacon\\eggs\\spam.txt, which part is the dir name, and which part is the base name?"
   ]
  },
  {
   "cell_type": "code",
   "execution_count": null,
   "id": "534f3268",
   "metadata": {},
   "outputs": [],
   "source": [
    "directory name is C:\\bacon\\eggs\n",
    "base name is spam.txt"
   ]
  },
  {
   "cell_type": "markdown",
   "id": "c7558988",
   "metadata": {},
   "source": [
    "6. What are the three “mode” arguments that can be passed to the open() function?"
   ]
  },
  {
   "cell_type": "code",
   "execution_count": null,
   "id": "2273bcf2",
   "metadata": {},
   "outputs": [],
   "source": [
    "r to open the file for read..\n",
    "w to open the file for write..\n",
    "a to open the file for append.."
   ]
  },
  {
   "cell_type": "markdown",
   "id": "576065a0",
   "metadata": {},
   "source": [
    "7. What happens if an existing file is opened in write mode?"
   ]
  },
  {
   "cell_type": "code",
   "execution_count": null,
   "id": "d5f83492",
   "metadata": {},
   "outputs": [],
   "source": [
    "replaces the existing content."
   ]
  },
  {
   "cell_type": "markdown",
   "id": "6f0204d6",
   "metadata": {},
   "source": [
    "8. How do you tell the difference between read() and readlines()?"
   ]
  },
  {
   "cell_type": "code",
   "execution_count": null,
   "id": "d58d14b3",
   "metadata": {},
   "outputs": [],
   "source": [
    "the read() will read the whole file at once and then print out the first character that take up as many bytes as we\n",
    "specify in the parantesis.\n",
    "\n",
    "readline() that will read and print out only the first character that take up as many bytes as we specify"
   ]
  },
  {
   "cell_type": "markdown",
   "id": "4d1b770d",
   "metadata": {},
   "source": [
    "9. What data structure does a shelf value resemble?"
   ]
  },
  {
   "cell_type": "code",
   "execution_count": null,
   "id": "845b7436",
   "metadata": {},
   "outputs": [],
   "source": [
    "dictionary"
   ]
  },
  {
   "cell_type": "code",
   "execution_count": null,
   "id": "c1b5e08c",
   "metadata": {},
   "outputs": [],
   "source": []
  }
 ],
 "metadata": {
  "kernelspec": {
   "display_name": "Python 3 (ipykernel)",
   "language": "python",
   "name": "python3"
  },
  "language_info": {
   "codemirror_mode": {
    "name": "ipython",
    "version": 3
   },
   "file_extension": ".py",
   "mimetype": "text/x-python",
   "name": "python",
   "nbconvert_exporter": "python",
   "pygments_lexer": "ipython3",
   "version": "3.9.13"
  }
 },
 "nbformat": 4,
 "nbformat_minor": 5
}
