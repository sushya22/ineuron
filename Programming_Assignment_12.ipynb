{
 "cells": [
  {
   "cell_type": "markdown",
   "id": "7a3bdb04",
   "metadata": {},
   "source": [
    "1. Write a Python program to Extract Unique values dictionary values?"
   ]
  },
  {
   "cell_type": "code",
   "execution_count": 3,
   "id": "f177005e",
   "metadata": {},
   "outputs": [],
   "source": [
    "d=dict({\n",
    "    'a':1,\n",
    "    'b':2,\n",
    "    'c':1,\n",
    "    'd':'a',\n",
    "    'e':'a'\n",
    "})"
   ]
  },
  {
   "cell_type": "code",
   "execution_count": 4,
   "id": "2bf35839",
   "metadata": {},
   "outputs": [
    {
     "name": "stdout",
     "output_type": "stream",
     "text": [
      "[1, 2, 'a']\n"
     ]
    }
   ],
   "source": [
    "l=[]\n",
    "for i in d.keys():\n",
    "    if d[i] not in l:\n",
    "        l.append(d[i])\n",
    "\n",
    "print(l)\n",
    "    "
   ]
  },
  {
   "cell_type": "markdown",
   "id": "f51aa8a9",
   "metadata": {},
   "source": [
    "2. Write a Python program to find the sum of all items in a dictionary?"
   ]
  },
  {
   "cell_type": "code",
   "execution_count": 5,
   "id": "c62ef34a",
   "metadata": {},
   "outputs": [
    {
     "data": {
      "text/plain": [
       "25"
      ]
     },
     "execution_count": 5,
     "metadata": {},
     "output_type": "execute_result"
    }
   ],
   "source": [
    "d={\n",
    "    'a':1,\n",
    "    'b':2,\n",
    "    'c':10,\n",
    "    'd':12\n",
    "}\n",
    "\n",
    "sum(d.values())"
   ]
  },
  {
   "cell_type": "markdown",
   "id": "4f91f765",
   "metadata": {},
   "source": [
    "3. Write a Python program to Merging two Dictionaries?"
   ]
  },
  {
   "cell_type": "code",
   "execution_count": 6,
   "id": "76ee7e11",
   "metadata": {},
   "outputs": [],
   "source": [
    "d={\n",
    "    'a':1\n",
    "}\n",
    "\n",
    "d1={\n",
    "    'b':2\n",
    "}\n",
    "\n",
    "d.update(d1)"
   ]
  },
  {
   "cell_type": "code",
   "execution_count": 7,
   "id": "0ec41143",
   "metadata": {},
   "outputs": [
    {
     "data": {
      "text/plain": [
       "{'a': 1, 'b': 2}"
      ]
     },
     "execution_count": 7,
     "metadata": {},
     "output_type": "execute_result"
    }
   ],
   "source": [
    "d"
   ]
  },
  {
   "cell_type": "markdown",
   "id": "0ce77ec8",
   "metadata": {},
   "source": [
    "4. Write a Python program to convert key-values list to flat dictionary?"
   ]
  },
  {
   "cell_type": "code",
   "execution_count": 8,
   "id": "bec29b0e",
   "metadata": {},
   "outputs": [],
   "source": [
    "l=[('a',1),('b',3),('c',100)]\n",
    "\n",
    "d={i:k for i,k in l}"
   ]
  },
  {
   "cell_type": "code",
   "execution_count": 9,
   "id": "38bc9d4d",
   "metadata": {},
   "outputs": [
    {
     "data": {
      "text/plain": [
       "{'a': 1, 'b': 3, 'c': 100}"
      ]
     },
     "execution_count": 9,
     "metadata": {},
     "output_type": "execute_result"
    }
   ],
   "source": [
    "d"
   ]
  },
  {
   "cell_type": "markdown",
   "id": "c22e9313",
   "metadata": {},
   "source": [
    "5. Write a Python program to insertion at the beginning in OrderedDict?"
   ]
  },
  {
   "cell_type": "code",
   "execution_count": 11,
   "id": "8cb98166",
   "metadata": {},
   "outputs": [],
   "source": [
    "from collections import OrderedDict\n",
    "d=OrderedDict([('a',1),('b',3)])\n",
    "d.update({'c':9})\n",
    "d.move_to_end('c',last=False)"
   ]
  },
  {
   "cell_type": "code",
   "execution_count": 12,
   "id": "d333a5fc",
   "metadata": {},
   "outputs": [
    {
     "data": {
      "text/plain": [
       "OrderedDict([('c', 9), ('a', 1), ('b', 3)])"
      ]
     },
     "execution_count": 12,
     "metadata": {},
     "output_type": "execute_result"
    }
   ],
   "source": [
    "d"
   ]
  },
  {
   "cell_type": "markdown",
   "id": "b8f00369",
   "metadata": {},
   "source": [
    "7. Write a Python program to sort Python Dictionaries by Key or Value?"
   ]
  },
  {
   "cell_type": "code",
   "execution_count": 15,
   "id": "ed607085",
   "metadata": {},
   "outputs": [],
   "source": [
    "d={'a':2,'x':6,'z':9,'b':3}\n",
    "\n",
    "s=list(d.keys())"
   ]
  },
  {
   "cell_type": "code",
   "execution_count": 16,
   "id": "91ddb602",
   "metadata": {},
   "outputs": [],
   "source": [
    "s.sort()"
   ]
  },
  {
   "cell_type": "code",
   "execution_count": 17,
   "id": "ae0d09ed",
   "metadata": {},
   "outputs": [],
   "source": [
    "d={i:d[i] for i in s}"
   ]
  },
  {
   "cell_type": "code",
   "execution_count": 18,
   "id": "7dcf1fef",
   "metadata": {},
   "outputs": [
    {
     "data": {
      "text/plain": [
       "{'a': 2, 'b': 3, 'x': 6, 'z': 9}"
      ]
     },
     "execution_count": 18,
     "metadata": {},
     "output_type": "execute_result"
    }
   ],
   "source": [
    "d"
   ]
  },
  {
   "cell_type": "code",
   "execution_count": null,
   "id": "5975016f",
   "metadata": {},
   "outputs": [],
   "source": []
  }
 ],
 "metadata": {
  "kernelspec": {
   "display_name": "Python 3 (ipykernel)",
   "language": "python",
   "name": "python3"
  },
  "language_info": {
   "codemirror_mode": {
    "name": "ipython",
    "version": 3
   },
   "file_extension": ".py",
   "mimetype": "text/x-python",
   "name": "python",
   "nbconvert_exporter": "python",
   "pygments_lexer": "ipython3",
   "version": "3.9.13"
  }
 },
 "nbformat": 4,
 "nbformat_minor": 5
}
