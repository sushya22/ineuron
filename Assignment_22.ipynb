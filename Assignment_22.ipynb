{
 "cells": [
  {
   "cell_type": "markdown",
   "id": "7398a491",
   "metadata": {},
   "source": [
    "1. What is the result of the code, and explain?\n",
    "\n",
    "&gt;&gt;&gt; X = &#39;iNeuron&#39;\n",
    "\n",
    "&gt;&gt;&gt; def func():\n",
    "\n",
    "print(X)\n",
    "\n",
    "&gt;&gt;&gt; func()"
   ]
  },
  {
   "cell_type": "markdown",
   "id": "25a4e3ac",
   "metadata": {},
   "source": [
    "Result: 'iNeuron'\n",
    "\n",
    "when we call the function. it will first search X in local scope since X is not present in the local scope. so it will print global variable x to screen."
   ]
  },
  {
   "cell_type": "markdown",
   "id": "492884d1",
   "metadata": {},
   "source": [
    "2. What is the result of the code, and explain?\n",
    "\n",
    "&gt;&gt;&gt; X = &#39;iNeuron&#39;\n",
    "\n",
    "&gt;&gt;&gt; def func():\n",
    "X = &#39;NI!&#39;\n",
    "\n",
    "&gt;&gt;&gt; func()\n",
    "\n",
    "&gt;&gt;&gt; print(X)"
   ]
  },
  {
   "cell_type": "markdown",
   "id": "ca906a70",
   "metadata": {},
   "source": [
    "result: 'iNeuron'\n",
    "\n",
    "when we call the function then local variable X will be created and after completion of execution of function local variable x will be destroyed. when we print(x) then global variable will be considered."
   ]
  },
  {
   "cell_type": "markdown",
   "id": "366f41c0",
   "metadata": {},
   "source": [
    "3. What does this code print, and why?\n",
    "\n",
    "&gt;&gt;&gt; X = &#39;iNeuron&#39;\n",
    "\n",
    "&gt;&gt;&gt; def func():\n",
    "\n",
    "X = &#39;NI&#39;\n",
    "\n",
    "print(X)\n",
    "\n",
    "&gt;&gt;&gt; func()\n",
    "\n",
    "&gt;&gt;&gt; print(X)"
   ]
  },
  {
   "cell_type": "markdown",
   "id": "9fc7d679",
   "metadata": {},
   "source": [
    "result:\n",
    "    \n",
    "    'Ni'\n",
    "    \n",
    "    'INeuron'\n",
    "    \n",
    "when we call the function. local variable X will be created. then that will printed on screen. then outside when we print(x) then global variable will be printed on screen.\n"
   ]
  },
  {
   "cell_type": "markdown",
   "id": "e8e14f43",
   "metadata": {},
   "source": [
    "4. What output does this code produce? Why?\n",
    "\n",
    "&gt;&gt;&gt; X = &#39;iNeuron&#39;\n",
    "\n",
    "&gt;&gt;&gt; def func():\n",
    "\n",
    "global X\n",
    "\n",
    "X = &#39;NI&#39;\n",
    "\n",
    "&gt;&gt;&gt; func()\n",
    "\n",
    "&gt;&gt;&gt; print(X)"
   ]
  },
  {
   "cell_type": "markdown",
   "id": "1fc9cd1a",
   "metadata": {},
   "source": [
    "result:\n",
    "    \n",
    "    'NI'\n",
    "    \n",
    "   by using global keyword we are refering to global variable inside the function then that global variable will be updated when we print x  outside it will print 'NI'"
   ]
  },
  {
   "cell_type": "markdown",
   "id": "61b61729",
   "metadata": {},
   "source": [
    "5. What about this code—what’s the output, and why?\n",
    "\n",
    "&gt;&gt;&gt; X = &#39;iNeuron&#39;\n",
    "\n",
    "&gt;&gt;&gt; def func():\n",
    "\n",
    "    X = 'NI';\n",
    "\n",
    "    def nested():\n",
    "\n",
    "        print(X)\n",
    "\n",
    "    nested()\n",
    "\n",
    "&gt;&gt;&gt; func()\n",
    "\n",
    "&gt;&gt;&gt; X"
   ]
  },
  {
   "cell_type": "markdown",
   "id": "96d5abb9",
   "metadata": {},
   "source": [
    "result:\n",
    "\n",
    "      'NI'\n",
    "      'iNeuron'\n",
    "      \n",
    "in nested function there is no local variable named x hence it will check for variable in parent scope. hence 'NI' will be printed.\n",
    "\n",
    "when we print(x) outside then 'iNeuron' will be printed.\n",
    "    \n",
    "      "
   ]
  },
  {
   "cell_type": "markdown",
   "id": "dae8298b",
   "metadata": {},
   "source": [
    "6. How about this code: what is its output in Python 3, and explain?\n",
    "\n",
    "&gt;&gt;&gt; def func():\n",
    "\n",
    "    X = 'NI';\n",
    "\n",
    "    def nested():\n",
    "\n",
    "        nonlocal X\n",
    "\n",
    "        X = 'Spam';\n",
    "\n",
    "    nested()\n",
    "\n",
    "    print(X)\n",
    "\n",
    "&gt;&gt;&gt; func()"
   ]
  },
  {
   "cell_type": "markdown",
   "id": "eb7f4725",
   "metadata": {},
   "source": [
    "result: \n",
    "\n",
    "      'Spam'\n",
    "      \n",
    "inside nested function x will be declared as non local so it will not create x local variable in nested function but rather it refers to variable of func() function."
   ]
  },
  {
   "cell_type": "code",
   "execution_count": null,
   "id": "497aa589",
   "metadata": {},
   "outputs": [],
   "source": []
  },
  {
   "cell_type": "code",
   "execution_count": null,
   "id": "509707d7",
   "metadata": {},
   "outputs": [],
   "source": []
  }
 ],
 "metadata": {
  "kernelspec": {
   "display_name": "Python 3 (ipykernel)",
   "language": "python",
   "name": "python3"
  },
  "language_info": {
   "codemirror_mode": {
    "name": "ipython",
    "version": 3
   },
   "file_extension": ".py",
   "mimetype": "text/x-python",
   "name": "python",
   "nbconvert_exporter": "python",
   "pygments_lexer": "ipython3",
   "version": "3.9.13"
  }
 },
 "nbformat": 4,
 "nbformat_minor": 5
}
