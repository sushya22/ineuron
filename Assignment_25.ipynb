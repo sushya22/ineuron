{
 "cells": [
  {
   "cell_type": "markdown",
   "id": "6649ee4d",
   "metadata": {},
   "source": [
    "1) . What is the difference between enclosing a list comprehension in square brackets and\n",
    "parentheses?"
   ]
  },
  {
   "cell_type": "markdown",
   "id": "f456f493",
   "metadata": {},
   "source": [
    "Square brackets are lists while parentheses are tuples"
   ]
  },
  {
   "cell_type": "markdown",
   "id": "65c9fb9e",
   "metadata": {},
   "source": [
    "2) What is the relationship between generators and iterators?"
   ]
  },
  {
   "cell_type": "markdown",
   "id": "1d307f89",
   "metadata": {},
   "source": [
    " iterators are objects that can be iterated on, and generators are special functions that leverage lazy evaluation"
   ]
  },
  {
   "cell_type": "markdown",
   "id": "83ca1772",
   "metadata": {},
   "source": [
    "3) What are the signs that a function is a generator function?"
   ]
  },
  {
   "cell_type": "markdown",
   "id": "c77d16fc",
   "metadata": {},
   "source": [
    "presence of yield statement specify that the function is generator function."
   ]
  },
  {
   "cell_type": "markdown",
   "id": "151473bb",
   "metadata": {},
   "source": [
    "4) What is the purpose of a yield statement?"
   ]
  },
  {
   "cell_type": "markdown",
   "id": "e5a5fb42",
   "metadata": {},
   "source": [
    "The yield statement returns a generator object to the one who calls the function which contains yield, instead of simply returning a value."
   ]
  },
  {
   "cell_type": "markdown",
   "id": "e7a886ca",
   "metadata": {},
   "source": [
    "5) What is the relationship between map calls and list comprehensions? Make a comparison and\n",
    "contrast between the two."
   ]
  },
  {
   "cell_type": "markdown",
   "id": "c849d4d9",
   "metadata": {},
   "source": [
    "List comprehension returns a list, whereas the map function returns an object of Iterable. List comprehension execution is faster than that of map function when the formula expression is huge and complex. Map function is faster than list comprehension when the formula is already defined as a function earlier"
   ]
  }
 ],
 "metadata": {
  "kernelspec": {
   "display_name": "Python 3 (ipykernel)",
   "language": "python",
   "name": "python3"
  },
  "language_info": {
   "codemirror_mode": {
    "name": "ipython",
    "version": 3
   },
   "file_extension": ".py",
   "mimetype": "text/x-python",
   "name": "python",
   "nbconvert_exporter": "python",
   "pygments_lexer": "ipython3",
   "version": "3.9.13"
  }
 },
 "nbformat": 4,
 "nbformat_minor": 5
}
