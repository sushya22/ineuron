{
 "cells": [
  {
   "cell_type": "markdown",
   "id": "943b67af",
   "metadata": {},
   "source": [
    "1. What is the relationship between def statements and lambda expressions ?"
   ]
  },
  {
   "cell_type": "markdown",
   "id": "c9b3b96c",
   "metadata": {},
   "source": [
    "def is used to define the function that function will be stored on memory.\n",
    "\n",
    "lambda expression is used to define the function for one time use.\n"
   ]
  },
  {
   "cell_type": "markdown",
   "id": "14ca8c48",
   "metadata": {},
   "source": [
    "2. What is the benefit of lambda?"
   ]
  },
  {
   "cell_type": "markdown",
   "id": "b5dda738",
   "metadata": {},
   "source": [
    "Python's lambda keyword lets you define a function in a single line of code and use it immediately"
   ]
  },
  {
   "cell_type": "markdown",
   "id": "ccf72fd4",
   "metadata": {},
   "source": [
    "3. Compare and contrast map, filter, and reduce."
   ]
  },
  {
   "cell_type": "markdown",
   "id": "d67fc8c5",
   "metadata": {},
   "source": [
    "map function maps every element of iterable to some other value.\n",
    "\n",
    "filter function is used ti filter the elements based on some condition.\n",
    "\n",
    "reduce function perform some operation on elements of iterable and returns the single lement."
   ]
  },
  {
   "cell_type": "markdown",
   "id": "cc8e3b1c",
   "metadata": {},
   "source": [
    "4. What are function annotations, and how are they used?"
   ]
  },
  {
   "cell_type": "markdown",
   "id": "3b87edd8",
   "metadata": {},
   "source": [
    "Function annotations are some random expressions which are written with the functions, and they are evaluated at compile time."
   ]
  },
  {
   "cell_type": "markdown",
   "id": "6f5fd4c1",
   "metadata": {},
   "source": [
    "5. What are recursive functions, and how are they used?"
   ]
  },
  {
   "cell_type": "markdown",
   "id": "16af3ae2",
   "metadata": {},
   "source": [
    "Recursive Function is a function that repeats or uses its own previous term to calculate subsequent terms and thus forms a sequence of terms. "
   ]
  },
  {
   "cell_type": "markdown",
   "id": "a4e2f948",
   "metadata": {},
   "source": [
    "6. What are some general design guidelines for coding functions?"
   ]
  },
  {
   "cell_type": "markdown",
   "id": "d44b1d0d",
   "metadata": {},
   "source": [
    "function should start with def keyword\n",
    "function can take arguments to perform the operation\n",
    "function can return one or more values or even zero"
   ]
  },
  {
   "cell_type": "markdown",
   "id": "c2d06338",
   "metadata": {},
   "source": [
    "7. Name three or more ways that functions can communicate results to a caller."
   ]
  },
  {
   "cell_type": "markdown",
   "id": "2baf175b",
   "metadata": {},
   "source": [
    "function without arguments and without return value.\n",
    "function without arguments and with return value.\n",
    "function with arguments and without return value.\n",
    "function with arguments and with return value"
   ]
  }
 ],
 "metadata": {
  "kernelspec": {
   "display_name": "Python 3 (ipykernel)",
   "language": "python",
   "name": "python3"
  },
  "language_info": {
   "codemirror_mode": {
    "name": "ipython",
    "version": 3
   },
   "file_extension": ".py",
   "mimetype": "text/x-python",
   "name": "python",
   "nbconvert_exporter": "python",
   "pygments_lexer": "ipython3",
   "version": "3.9.13"
  }
 },
 "nbformat": 4,
 "nbformat_minor": 5
}
